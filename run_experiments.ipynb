{
  "cells": [
    {
      "attachments": {},
      "cell_type": "markdown",
      "metadata": {
        "id": "cyu_LNHkLcuQ"
      },
      "source": [
        "## Libraries & Setup"
      ]
    },
    {
      "attachments": {},
      "cell_type": "markdown",
      "metadata": {},
      "source": [
        "### Setup"
      ]
    },
    {
      "cell_type": "code",
      "execution_count": 1,
      "metadata": {
        "id": "LWJOoH8xLcuU"
      },
      "outputs": [],
      "source": [
        "from functools import partial\n",
        "\n",
        "import numpy as np\n",
        "import pandas as pd\n",
        "import torch.nn.parallel\n",
        "\n",
        "from torch.nn import CrossEntropyLoss\n",
        "from torch.optim import SGD\n",
        "\n",
        "from utils.adaquant import optimize_layer_adaquant\n",
        "from utils.load_dataset import load_dataset\n",
        "from utils.utils_functions import val_loop, set_seeds\n",
        "from utils.mobilenet_v2 import MobileNetV2\n",
        "from utils.quantize import QConv2d, QLinear\n",
        "from utils.trainer import Trainer\n",
        "\n",
        "set_seeds()"
      ]
    },
    {
      "attachments": {},
      "cell_type": "markdown",
      "metadata": {
        "id": "sjIYB-L8LcuX"
      },
      "source": [
        "## Experiments\n",
        "\n",
        "For AdaQuant algorithm on already trained model - for 8, 16 and 32 bits."
      ]
    },
    {
      "cell_type": "code",
      "execution_count": 5,
      "metadata": {},
      "outputs": [
        {
          "name": "stdout",
          "output_type": "stream",
          "text": [
            "Calibration accuracy before quantization for 8 bits 43.94394394394394.\n",
            "Train accuracy before quantization for 8 bits 44.928985797159434.\n",
            "\n",
            "Optimize 0:features.0.0 for 8 bit of shape torch.Size([32, 3, 3, 3])\n"
          ]
        },
        {
          "name": "stderr",
          "output_type": "stream",
          "text": [
            "100%|██████████| 100/100 [00:01<00:00, 99.81it/s]\n"
          ]
        },
        {
          "name": "stdout",
          "output_type": "stream",
          "text": [
            "\n",
            "MSE before optimization: 0.2984926104545593\n",
            "MSE after optimization:  0.03186314180493355\n",
            "cashed quant Inputfeatures.1.conv.0.0\n",
            "\n",
            "Optimize 1:features.1.conv.0.0 for 8 bit of shape torch.Size([32, 1, 3, 3])\n"
          ]
        },
        {
          "name": "stderr",
          "output_type": "stream",
          "text": [
            "100%|██████████| 100/100 [00:02<00:00, 49.49it/s]\n"
          ]
        },
        {
          "name": "stdout",
          "output_type": "stream",
          "text": [
            "\n",
            "MSE before optimization: 0.0023151671048253775\n",
            "MSE after optimization:  0.0023015954066067934\n",
            "cashed quant Inputfeatures.1.conv.1\n",
            "\n",
            "Optimize 2:features.1.conv.1 for 8 bit of shape torch.Size([16, 32, 1, 1])\n"
          ]
        },
        {
          "name": "stderr",
          "output_type": "stream",
          "text": [
            "100%|██████████| 100/100 [00:01<00:00, 59.83it/s]\n"
          ]
        },
        {
          "name": "stdout",
          "output_type": "stream",
          "text": [
            "\n",
            "MSE before optimization: 0.003042934462428093\n",
            "MSE after optimization:  0.0030279052443802357\n",
            "cashed quant Inputfeatures.2.conv.0.0\n",
            "\n",
            "Optimize 3:features.2.conv.0.0 for 8 bit of shape torch.Size([96, 16, 1, 1])\n"
          ]
        },
        {
          "name": "stderr",
          "output_type": "stream",
          "text": [
            "100%|██████████| 100/100 [00:01<00:00, 59.64it/s]\n"
          ]
        },
        {
          "name": "stdout",
          "output_type": "stream",
          "text": [
            "\n",
            "MSE before optimization: 0.05334724485874176\n",
            "MSE after optimization:  0.053344473242759705\n",
            "cashed quant Inputfeatures.2.conv.1.0\n",
            "\n",
            "Optimize 4:features.2.conv.1.0 for 8 bit of shape torch.Size([96, 1, 3, 3])\n"
          ]
        },
        {
          "name": "stderr",
          "output_type": "stream",
          "text": [
            "100%|██████████| 100/100 [00:03<00:00, 26.03it/s]\n"
          ]
        },
        {
          "name": "stdout",
          "output_type": "stream",
          "text": [
            "\n",
            "MSE before optimization: 0.04518884792923927\n",
            "MSE after optimization:  0.03619951382279396\n",
            "cashed quant Inputfeatures.2.conv.2\n",
            "\n",
            "Optimize 5:features.2.conv.2 for 8 bit of shape torch.Size([24, 96, 1, 1])\n"
          ]
        },
        {
          "name": "stderr",
          "output_type": "stream",
          "text": [
            "100%|██████████| 100/100 [00:01<00:00, 75.99it/s]\n"
          ]
        },
        {
          "name": "stdout",
          "output_type": "stream",
          "text": [
            "\n",
            "MSE before optimization: 0.08652263134717941\n",
            "MSE after optimization:  0.08601566404104233\n",
            "cashed quant Inputfeatures.3.conv.0.0\n",
            "\n",
            "Optimize 6:features.3.conv.0.0 for 8 bit of shape torch.Size([144, 24, 1, 1])\n"
          ]
        },
        {
          "name": "stderr",
          "output_type": "stream",
          "text": [
            "100%|██████████| 100/100 [00:00<00:00, 114.49it/s]\n"
          ]
        },
        {
          "name": "stdout",
          "output_type": "stream",
          "text": [
            "\n",
            "MSE before optimization: 0.0833631381392479\n",
            "MSE after optimization:  0.07640721648931503\n",
            "cashed quant Inputfeatures.3.conv.1.0\n",
            "\n",
            "Optimize 7:features.3.conv.1.0 for 8 bit of shape torch.Size([144, 1, 3, 3])\n"
          ]
        },
        {
          "name": "stderr",
          "output_type": "stream",
          "text": [
            "100%|██████████| 100/100 [00:02<00:00, 45.02it/s]\n"
          ]
        },
        {
          "name": "stdout",
          "output_type": "stream",
          "text": [
            "\n",
            "MSE before optimization: 0.008864736184477806\n",
            "MSE after optimization:  0.0026981637347489595\n",
            "cashed quant Inputfeatures.3.conv.2\n",
            "\n",
            "Optimize 8:features.3.conv.2 for 8 bit of shape torch.Size([24, 144, 1, 1])\n"
          ]
        },
        {
          "name": "stderr",
          "output_type": "stream",
          "text": [
            "100%|██████████| 100/100 [00:01<00:00, 60.40it/s]\n"
          ]
        },
        {
          "name": "stdout",
          "output_type": "stream",
          "text": [
            "\n",
            "MSE before optimization: 0.019017841666936874\n",
            "MSE after optimization:  0.015838008373975754\n",
            "cashed quant Inputfeatures.4.conv.0.0\n",
            "\n",
            "Optimize 9:features.4.conv.0.0 for 8 bit of shape torch.Size([144, 24, 1, 1])\n"
          ]
        },
        {
          "name": "stderr",
          "output_type": "stream",
          "text": [
            "100%|██████████| 100/100 [00:00<00:00, 112.40it/s]\n"
          ]
        },
        {
          "name": "stdout",
          "output_type": "stream",
          "text": [
            "\n",
            "MSE before optimization: 0.21579131484031677\n",
            "MSE after optimization:  0.18857242166996002\n",
            "cashed quant Inputfeatures.4.conv.1.0\n",
            "\n",
            "Optimize 10:features.4.conv.1.0 for 8 bit of shape torch.Size([144, 1, 3, 3])\n"
          ]
        },
        {
          "name": "stderr",
          "output_type": "stream",
          "text": [
            "100%|██████████| 100/100 [00:01<00:00, 59.33it/s]\n"
          ]
        },
        {
          "name": "stdout",
          "output_type": "stream",
          "text": [
            "\n",
            "MSE before optimization: 0.09335114061832428\n",
            "MSE after optimization:  0.019403554499149323\n",
            "cashed quant Inputfeatures.4.conv.2\n",
            "\n",
            "Optimize 11:features.4.conv.2 for 8 bit of shape torch.Size([32, 144, 1, 1])\n"
          ]
        },
        {
          "name": "stderr",
          "output_type": "stream",
          "text": [
            "100%|██████████| 100/100 [00:00<00:00, 190.91it/s]\n"
          ]
        },
        {
          "name": "stdout",
          "output_type": "stream",
          "text": [
            "\n",
            "MSE before optimization: 1.4996875524520874\n",
            "MSE after optimization:  1.3632546663284302\n",
            "cashed quant Inputfeatures.5.conv.0.0\n",
            "\n",
            "Optimize 12:features.5.conv.0.0 for 8 bit of shape torch.Size([192, 32, 1, 1])\n"
          ]
        },
        {
          "name": "stderr",
          "output_type": "stream",
          "text": [
            "100%|██████████| 100/100 [00:00<00:00, 222.12it/s]\n"
          ]
        },
        {
          "name": "stdout",
          "output_type": "stream",
          "text": [
            "\n",
            "MSE before optimization: 1.5058451890945435\n",
            "MSE after optimization:  1.3195961713790894\n",
            "cashed quant Inputfeatures.5.conv.1.0\n",
            "\n",
            "Optimize 13:features.5.conv.1.0 for 8 bit of shape torch.Size([192, 1, 3, 3])\n"
          ]
        },
        {
          "name": "stderr",
          "output_type": "stream",
          "text": [
            "100%|██████████| 100/100 [00:00<00:00, 163.79it/s]\n"
          ]
        },
        {
          "name": "stdout",
          "output_type": "stream",
          "text": [
            "\n",
            "MSE before optimization: 0.04396836832165718\n",
            "MSE after optimization:  0.04036199674010277\n",
            "cashed quant Inputfeatures.5.conv.2\n",
            "\n",
            "Optimize 14:features.5.conv.2 for 8 bit of shape torch.Size([32, 192, 1, 1])\n"
          ]
        },
        {
          "name": "stderr",
          "output_type": "stream",
          "text": [
            "100%|██████████| 100/100 [00:00<00:00, 145.54it/s]\n"
          ]
        },
        {
          "name": "stdout",
          "output_type": "stream",
          "text": [
            "\n",
            "MSE before optimization: 0.748206377029419\n",
            "MSE after optimization:  0.6521475315093994\n",
            "cashed quant Inputfeatures.6.conv.0.0\n",
            "\n",
            "Optimize 15:features.6.conv.0.0 for 8 bit of shape torch.Size([192, 32, 1, 1])\n"
          ]
        },
        {
          "name": "stderr",
          "output_type": "stream",
          "text": [
            "100%|██████████| 100/100 [00:00<00:00, 210.75it/s]\n"
          ]
        },
        {
          "name": "stdout",
          "output_type": "stream",
          "text": [
            "\n",
            "MSE before optimization: 2.0367438793182373\n",
            "MSE after optimization:  1.7033922672271729\n",
            "cashed quant Inputfeatures.6.conv.1.0\n",
            "\n",
            "Optimize 16:features.6.conv.1.0 for 8 bit of shape torch.Size([192, 1, 3, 3])\n"
          ]
        },
        {
          "name": "stderr",
          "output_type": "stream",
          "text": [
            "100%|██████████| 100/100 [00:00<00:00, 153.65it/s]\n"
          ]
        },
        {
          "name": "stdout",
          "output_type": "stream",
          "text": [
            "\n",
            "MSE before optimization: 0.03514740243554115\n",
            "MSE after optimization:  0.03476868197321892\n",
            "cashed quant Inputfeatures.6.conv.2\n",
            "\n",
            "Optimize 17:features.6.conv.2 for 8 bit of shape torch.Size([32, 192, 1, 1])\n"
          ]
        },
        {
          "name": "stderr",
          "output_type": "stream",
          "text": [
            "100%|██████████| 100/100 [00:00<00:00, 166.43it/s]\n"
          ]
        },
        {
          "name": "stdout",
          "output_type": "stream",
          "text": [
            "\n",
            "MSE before optimization: 0.3631581962108612\n",
            "MSE after optimization:  0.3377358615398407\n",
            "cashed quant Inputfeatures.7.conv.0.0\n",
            "\n",
            "Optimize 18:features.7.conv.0.0 for 8 bit of shape torch.Size([192, 32, 1, 1])\n"
          ]
        },
        {
          "name": "stderr",
          "output_type": "stream",
          "text": [
            "100%|██████████| 100/100 [00:00<00:00, 212.93it/s]\n"
          ]
        },
        {
          "name": "stdout",
          "output_type": "stream",
          "text": [
            "\n",
            "MSE before optimization: 2.3977296352386475\n",
            "MSE after optimization:  2.2141976356506348\n",
            "cashed quant Inputfeatures.7.conv.1.0\n",
            "\n",
            "Optimize 19:features.7.conv.1.0 for 8 bit of shape torch.Size([192, 1, 3, 3])\n"
          ]
        },
        {
          "name": "stderr",
          "output_type": "stream",
          "text": [
            "100%|██████████| 100/100 [00:00<00:00, 171.77it/s]\n"
          ]
        },
        {
          "name": "stdout",
          "output_type": "stream",
          "text": [
            "\n",
            "MSE before optimization: 0.14169245958328247\n",
            "MSE after optimization:  0.07237052917480469\n",
            "cashed quant Inputfeatures.7.conv.2\n",
            "\n",
            "Optimize 20:features.7.conv.2 for 8 bit of shape torch.Size([64, 192, 1, 1])\n"
          ]
        },
        {
          "name": "stderr",
          "output_type": "stream",
          "text": [
            "100%|██████████| 100/100 [00:00<00:00, 199.17it/s]\n"
          ]
        },
        {
          "name": "stdout",
          "output_type": "stream",
          "text": [
            "\n",
            "MSE before optimization: 1.5392793416976929\n",
            "MSE after optimization:  1.3516817092895508\n",
            "cashed quant Inputfeatures.8.conv.0.0\n",
            "\n",
            "Optimize 21:features.8.conv.0.0 for 8 bit of shape torch.Size([384, 64, 1, 1])\n"
          ]
        },
        {
          "name": "stderr",
          "output_type": "stream",
          "text": [
            "100%|██████████| 100/100 [00:00<00:00, 188.63it/s]\n"
          ]
        },
        {
          "name": "stdout",
          "output_type": "stream",
          "text": [
            "\n",
            "MSE before optimization: 2.2554874420166016\n",
            "MSE after optimization:  2.205075740814209\n",
            "cashed quant Inputfeatures.8.conv.1.0\n",
            "\n",
            "Optimize 22:features.8.conv.1.0 for 8 bit of shape torch.Size([384, 1, 3, 3])\n"
          ]
        },
        {
          "name": "stderr",
          "output_type": "stream",
          "text": [
            "100%|██████████| 100/100 [00:00<00:00, 108.66it/s]\n"
          ]
        },
        {
          "name": "stdout",
          "output_type": "stream",
          "text": [
            "\n",
            "MSE before optimization: 0.01586340181529522\n",
            "MSE after optimization:  0.013396153226494789\n",
            "cashed quant Inputfeatures.8.conv.2\n",
            "\n",
            "Optimize 23:features.8.conv.2 for 8 bit of shape torch.Size([64, 384, 1, 1])\n"
          ]
        },
        {
          "name": "stderr",
          "output_type": "stream",
          "text": [
            "100%|██████████| 100/100 [00:00<00:00, 151.88it/s]\n"
          ]
        },
        {
          "name": "stdout",
          "output_type": "stream",
          "text": [
            "\n",
            "MSE before optimization: 0.49918660521507263\n",
            "MSE after optimization:  0.4825405478477478\n",
            "cashed quant Inputfeatures.9.conv.0.0\n",
            "\n",
            "Optimize 24:features.9.conv.0.0 for 8 bit of shape torch.Size([384, 64, 1, 1])\n"
          ]
        },
        {
          "name": "stderr",
          "output_type": "stream",
          "text": [
            "100%|██████████| 100/100 [00:00<00:00, 182.58it/s]\n"
          ]
        },
        {
          "name": "stdout",
          "output_type": "stream",
          "text": [
            "\n",
            "MSE before optimization: 1.8336822986602783\n",
            "MSE after optimization:  1.831572413444519\n",
            "cashed quant Inputfeatures.9.conv.1.0\n",
            "\n",
            "Optimize 25:features.9.conv.1.0 for 8 bit of shape torch.Size([384, 1, 3, 3])\n"
          ]
        },
        {
          "name": "stderr",
          "output_type": "stream",
          "text": [
            "100%|██████████| 100/100 [00:00<00:00, 109.78it/s]\n"
          ]
        },
        {
          "name": "stdout",
          "output_type": "stream",
          "text": [
            "\n",
            "MSE before optimization: 0.0016472545685246587\n",
            "MSE after optimization:  0.0015714577166363597\n",
            "cashed quant Inputfeatures.9.conv.2\n",
            "\n",
            "Optimize 26:features.9.conv.2 for 8 bit of shape torch.Size([64, 384, 1, 1])\n"
          ]
        },
        {
          "name": "stderr",
          "output_type": "stream",
          "text": [
            "100%|██████████| 100/100 [00:00<00:00, 169.48it/s]\n"
          ]
        },
        {
          "name": "stdout",
          "output_type": "stream",
          "text": [
            "\n",
            "MSE before optimization: 0.03939935192465782\n",
            "MSE after optimization:  0.03865927457809448\n",
            "cashed quant Inputfeatures.10.conv.0.0\n",
            "\n",
            "Optimize 27:features.10.conv.0.0 for 8 bit of shape torch.Size([384, 64, 1, 1])\n"
          ]
        },
        {
          "name": "stderr",
          "output_type": "stream",
          "text": [
            "100%|██████████| 100/100 [00:00<00:00, 192.71it/s]\n"
          ]
        },
        {
          "name": "stdout",
          "output_type": "stream",
          "text": [
            "\n",
            "MSE before optimization: 0.8355188369750977\n",
            "MSE after optimization:  0.8292971849441528\n",
            "cashed quant Inputfeatures.10.conv.1.0\n",
            "\n",
            "Optimize 28:features.10.conv.1.0 for 8 bit of shape torch.Size([384, 1, 3, 3])\n"
          ]
        },
        {
          "name": "stderr",
          "output_type": "stream",
          "text": [
            "100%|██████████| 100/100 [00:00<00:00, 108.85it/s]\n"
          ]
        },
        {
          "name": "stdout",
          "output_type": "stream",
          "text": [
            "\n",
            "MSE before optimization: 0.0014610221842303872\n",
            "MSE after optimization:  0.001266363076865673\n",
            "cashed quant Inputfeatures.10.conv.2\n",
            "\n",
            "Optimize 29:features.10.conv.2 for 8 bit of shape torch.Size([64, 384, 1, 1])\n"
          ]
        },
        {
          "name": "stderr",
          "output_type": "stream",
          "text": [
            "100%|██████████| 100/100 [00:00<00:00, 168.49it/s]\n"
          ]
        },
        {
          "name": "stdout",
          "output_type": "stream",
          "text": [
            "\n",
            "MSE before optimization: 0.04829435423016548\n",
            "MSE after optimization:  0.03164965286850929\n",
            "cashed quant Inputfeatures.11.conv.0.0\n",
            "\n",
            "Optimize 30:features.11.conv.0.0 for 8 bit of shape torch.Size([384, 64, 1, 1])\n"
          ]
        },
        {
          "name": "stderr",
          "output_type": "stream",
          "text": [
            "100%|██████████| 100/100 [00:00<00:00, 178.77it/s]\n"
          ]
        },
        {
          "name": "stdout",
          "output_type": "stream",
          "text": [
            "\n",
            "MSE before optimization: 5.9760966300964355\n",
            "MSE after optimization:  5.90229606628418\n",
            "cashed quant Inputfeatures.11.conv.1.0\n",
            "\n",
            "Optimize 31:features.11.conv.1.0 for 8 bit of shape torch.Size([384, 1, 3, 3])\n"
          ]
        },
        {
          "name": "stderr",
          "output_type": "stream",
          "text": [
            "100%|██████████| 100/100 [00:00<00:00, 110.76it/s]\n"
          ]
        },
        {
          "name": "stdout",
          "output_type": "stream",
          "text": [
            "\n",
            "MSE before optimization: 0.0395558662712574\n",
            "MSE after optimization:  0.03684261068701744\n",
            "cashed quant Inputfeatures.11.conv.2\n",
            "\n",
            "Optimize 32:features.11.conv.2 for 8 bit of shape torch.Size([96, 384, 1, 1])\n"
          ]
        },
        {
          "name": "stderr",
          "output_type": "stream",
          "text": [
            "100%|██████████| 100/100 [00:00<00:00, 157.99it/s]\n"
          ]
        },
        {
          "name": "stdout",
          "output_type": "stream",
          "text": [
            "\n",
            "MSE before optimization: 0.9300011992454529\n",
            "MSE after optimization:  0.8978418707847595\n",
            "cashed quant Inputfeatures.12.conv.0.0\n",
            "\n",
            "Optimize 33:features.12.conv.0.0 for 8 bit of shape torch.Size([576, 96, 1, 1])\n"
          ]
        },
        {
          "name": "stderr",
          "output_type": "stream",
          "text": [
            "100%|██████████| 100/100 [00:00<00:00, 156.53it/s]\n"
          ]
        },
        {
          "name": "stdout",
          "output_type": "stream",
          "text": [
            "\n",
            "MSE before optimization: 0.13814270496368408\n",
            "MSE after optimization:  0.1369040161371231\n",
            "cashed quant Inputfeatures.12.conv.1.0\n",
            "\n",
            "Optimize 34:features.12.conv.1.0 for 8 bit of shape torch.Size([576, 1, 3, 3])\n"
          ]
        },
        {
          "name": "stderr",
          "output_type": "stream",
          "text": [
            "100%|██████████| 100/100 [00:01<00:00, 80.25it/s]\n"
          ]
        },
        {
          "name": "stdout",
          "output_type": "stream",
          "text": [
            "\n",
            "MSE before optimization: 0.0007310627843253314\n",
            "MSE after optimization:  0.0004846648371312767\n",
            "cashed quant Inputfeatures.12.conv.2\n",
            "\n",
            "Optimize 35:features.12.conv.2 for 8 bit of shape torch.Size([96, 576, 1, 1])\n"
          ]
        },
        {
          "name": "stderr",
          "output_type": "stream",
          "text": [
            "100%|██████████| 100/100 [00:00<00:00, 135.69it/s]\n"
          ]
        },
        {
          "name": "stdout",
          "output_type": "stream",
          "text": [
            "\n",
            "MSE before optimization: 0.0966133400797844\n",
            "MSE after optimization:  0.06765878945589066\n",
            "cashed quant Inputfeatures.13.conv.0.0\n",
            "\n",
            "Optimize 36:features.13.conv.0.0 for 8 bit of shape torch.Size([576, 96, 1, 1])\n"
          ]
        },
        {
          "name": "stderr",
          "output_type": "stream",
          "text": [
            "100%|██████████| 100/100 [00:00<00:00, 155.84it/s]\n"
          ]
        },
        {
          "name": "stdout",
          "output_type": "stream",
          "text": [
            "\n",
            "MSE before optimization: 0.16024573147296906\n",
            "MSE after optimization:  0.15827511250972748\n",
            "cashed quant Inputfeatures.13.conv.1.0\n",
            "\n",
            "Optimize 37:features.13.conv.1.0 for 8 bit of shape torch.Size([576, 1, 3, 3])\n"
          ]
        },
        {
          "name": "stderr",
          "output_type": "stream",
          "text": [
            "100%|██████████| 100/100 [00:01<00:00, 81.91it/s]\n"
          ]
        },
        {
          "name": "stdout",
          "output_type": "stream",
          "text": [
            "\n",
            "MSE before optimization: 0.000624207139480859\n",
            "MSE after optimization:  0.00042982163722626865\n",
            "cashed quant Inputfeatures.13.conv.2\n",
            "\n",
            "Optimize 38:features.13.conv.2 for 8 bit of shape torch.Size([96, 576, 1, 1])\n"
          ]
        },
        {
          "name": "stderr",
          "output_type": "stream",
          "text": [
            "100%|██████████| 100/100 [00:00<00:00, 134.18it/s]\n"
          ]
        },
        {
          "name": "stdout",
          "output_type": "stream",
          "text": [
            "\n",
            "MSE before optimization: 0.05885642394423485\n",
            "MSE after optimization:  0.027982788160443306\n",
            "cashed quant Inputfeatures.14.conv.0.0\n",
            "\n",
            "Optimize 39:features.14.conv.0.0 for 8 bit of shape torch.Size([576, 96, 1, 1])\n"
          ]
        },
        {
          "name": "stderr",
          "output_type": "stream",
          "text": [
            "100%|██████████| 100/100 [00:00<00:00, 154.93it/s]\n"
          ]
        },
        {
          "name": "stdout",
          "output_type": "stream",
          "text": [
            "\n",
            "MSE before optimization: 0.2626327872276306\n",
            "MSE after optimization:  0.258184552192688\n",
            "cashed quant Inputfeatures.14.conv.1.0\n",
            "\n",
            "Optimize 40:features.14.conv.1.0 for 8 bit of shape torch.Size([576, 1, 3, 3])\n"
          ]
        },
        {
          "name": "stderr",
          "output_type": "stream",
          "text": [
            "100%|██████████| 100/100 [00:01<00:00, 87.39it/s]\n"
          ]
        },
        {
          "name": "stdout",
          "output_type": "stream",
          "text": [
            "\n",
            "MSE before optimization: 0.0032874420285224915\n",
            "MSE after optimization:  0.000450275547336787\n",
            "cashed quant Inputfeatures.14.conv.2\n",
            "\n",
            "Optimize 41:features.14.conv.2 for 8 bit of shape torch.Size([160, 576, 1, 1])\n"
          ]
        },
        {
          "name": "stderr",
          "output_type": "stream",
          "text": [
            "100%|██████████| 100/100 [00:00<00:00, 144.52it/s]\n"
          ]
        },
        {
          "name": "stdout",
          "output_type": "stream",
          "text": [
            "\n",
            "MSE before optimization: 0.157931849360466\n",
            "MSE after optimization:  0.1545306295156479\n",
            "cashed quant Inputfeatures.15.conv.0.0\n",
            "\n",
            "Optimize 42:features.15.conv.0.0 for 8 bit of shape torch.Size([960, 160, 1, 1])\n"
          ]
        },
        {
          "name": "stderr",
          "output_type": "stream",
          "text": [
            "100%|██████████| 100/100 [00:00<00:00, 126.70it/s]\n"
          ]
        },
        {
          "name": "stdout",
          "output_type": "stream",
          "text": [
            "\n",
            "MSE before optimization: 0.8006061315536499\n",
            "MSE after optimization:  0.7579165101051331\n",
            "cashed quant Inputfeatures.15.conv.1.0\n",
            "\n",
            "Optimize 43:features.15.conv.1.0 for 8 bit of shape torch.Size([960, 1, 3, 3])\n"
          ]
        },
        {
          "name": "stderr",
          "output_type": "stream",
          "text": [
            "100%|██████████| 100/100 [00:01<00:00, 67.68it/s]\n"
          ]
        },
        {
          "name": "stdout",
          "output_type": "stream",
          "text": [
            "\n",
            "MSE before optimization: 0.00190178700722754\n",
            "MSE after optimization:  0.0017562026623636484\n",
            "cashed quant Inputfeatures.15.conv.2\n",
            "\n",
            "Optimize 44:features.15.conv.2 for 8 bit of shape torch.Size([160, 960, 1, 1])\n"
          ]
        },
        {
          "name": "stderr",
          "output_type": "stream",
          "text": [
            "100%|██████████| 100/100 [00:00<00:00, 124.75it/s]\n"
          ]
        },
        {
          "name": "stdout",
          "output_type": "stream",
          "text": [
            "\n",
            "MSE before optimization: 0.05284402519464493\n",
            "MSE after optimization:  0.028750218451023102\n",
            "cashed quant Inputfeatures.16.conv.0.0\n",
            "\n",
            "Optimize 45:features.16.conv.0.0 for 8 bit of shape torch.Size([960, 160, 1, 1])\n"
          ]
        },
        {
          "name": "stderr",
          "output_type": "stream",
          "text": [
            "100%|██████████| 100/100 [00:00<00:00, 124.12it/s]\n"
          ]
        },
        {
          "name": "stdout",
          "output_type": "stream",
          "text": [
            "\n",
            "MSE before optimization: 8.503741264343262\n",
            "MSE after optimization:  5.095598220825195\n",
            "cashed quant Inputfeatures.16.conv.1.0\n",
            "\n",
            "Optimize 46:features.16.conv.1.0 for 8 bit of shape torch.Size([960, 1, 3, 3])\n"
          ]
        },
        {
          "name": "stderr",
          "output_type": "stream",
          "text": [
            "100%|██████████| 100/100 [00:01<00:00, 68.17it/s]\n"
          ]
        },
        {
          "name": "stdout",
          "output_type": "stream",
          "text": [
            "\n",
            "MSE before optimization: 0.003327091922983527\n",
            "MSE after optimization:  0.0016083052614703774\n",
            "cashed quant Inputfeatures.16.conv.2\n",
            "\n",
            "Optimize 47:features.16.conv.2 for 8 bit of shape torch.Size([160, 960, 1, 1])\n"
          ]
        },
        {
          "name": "stderr",
          "output_type": "stream",
          "text": [
            "100%|██████████| 100/100 [00:00<00:00, 123.95it/s]\n"
          ]
        },
        {
          "name": "stdout",
          "output_type": "stream",
          "text": [
            "\n",
            "MSE before optimization: 1.3660590648651123\n",
            "MSE after optimization:  0.557174563407898\n",
            "cashed quant Inputfeatures.17.conv.0.0\n",
            "\n",
            "Optimize 48:features.17.conv.0.0 for 8 bit of shape torch.Size([960, 160, 1, 1])\n"
          ]
        },
        {
          "name": "stderr",
          "output_type": "stream",
          "text": [
            "100%|██████████| 100/100 [00:00<00:00, 124.11it/s]\n"
          ]
        },
        {
          "name": "stdout",
          "output_type": "stream",
          "text": [
            "\n",
            "MSE before optimization: 133.92947387695312\n",
            "MSE after optimization:  105.83589935302734\n",
            "cashed quant Inputfeatures.17.conv.1.0\n",
            "\n",
            "Optimize 49:features.17.conv.1.0 for 8 bit of shape torch.Size([960, 1, 3, 3])\n"
          ]
        },
        {
          "name": "stderr",
          "output_type": "stream",
          "text": [
            "100%|██████████| 100/100 [00:01<00:00, 67.84it/s]\n"
          ]
        },
        {
          "name": "stdout",
          "output_type": "stream",
          "text": [
            "\n",
            "MSE before optimization: 0.005209915339946747\n",
            "MSE after optimization:  0.0013692592037841678\n",
            "cashed quant Inputfeatures.17.conv.2\n",
            "\n",
            "Optimize 50:features.17.conv.2 for 8 bit of shape torch.Size([320, 960, 1, 1])\n"
          ]
        },
        {
          "name": "stderr",
          "output_type": "stream",
          "text": [
            "100%|██████████| 100/100 [00:01<00:00, 56.22it/s]\n"
          ]
        },
        {
          "name": "stdout",
          "output_type": "stream",
          "text": [
            "\n",
            "MSE before optimization: 1.1241466999053955\n",
            "MSE after optimization:  0.584609866142273\n",
            "cashed quant Inputfeatures.18.0\n",
            "\n",
            "Optimize 51:features.18.0 for 8 bit of shape torch.Size([1280, 320, 1, 1])\n"
          ]
        },
        {
          "name": "stderr",
          "output_type": "stream",
          "text": [
            "100%|██████████| 100/100 [00:02<00:00, 42.89it/s]\n"
          ]
        },
        {
          "name": "stdout",
          "output_type": "stream",
          "text": [
            "\n",
            "MSE before optimization: 10.46317195892334\n",
            "MSE after optimization:  10.05456829071045\n",
            "cashed quant Inputclassifier.1\n",
            "\n",
            "Optimize 52:classifier.1 for 8 bit of shape torch.Size([10, 1280])\n"
          ]
        },
        {
          "name": "stderr",
          "output_type": "stream",
          "text": [
            "100%|██████████| 100/100 [00:00<00:00, 194.54it/s]\n"
          ]
        },
        {
          "name": "stdout",
          "output_type": "stream",
          "text": [
            "\n",
            "MSE before optimization: 3357.84326171875\n",
            "MSE after optimization:  3081.07958984375\n",
            "Calibration accuracy after quantization for 8 bits 10.01001001001001.\n",
            "Train accuracy after quantization for 8 bits 9.781956391278255.\n",
            "Calibration accuracy before quantization for 16 bits 43.74374374374375.\n",
            "Train accuracy before quantization for 16 bits 45.62912582516503.\n",
            "\n",
            "Optimize 0:features.0.0 for 16 bit of shape torch.Size([32, 3, 3, 3])\n"
          ]
        },
        {
          "name": "stderr",
          "output_type": "stream",
          "text": [
            "100%|██████████| 100/100 [00:01<00:00, 91.35it/s]\n"
          ]
        },
        {
          "name": "stdout",
          "output_type": "stream",
          "text": [
            "\n",
            "MSE before optimization: 0.30688947439193726\n",
            "MSE after optimization:  0.03325648605823517\n",
            "cashed quant Inputfeatures.1.conv.0.0\n",
            "\n",
            "Optimize 1:features.1.conv.0.0 for 16 bit of shape torch.Size([32, 1, 3, 3])\n"
          ]
        },
        {
          "name": "stderr",
          "output_type": "stream",
          "text": [
            "100%|██████████| 100/100 [00:02<00:00, 45.27it/s]\n"
          ]
        },
        {
          "name": "stdout",
          "output_type": "stream",
          "text": [
            "\n",
            "MSE before optimization: 0.002378419740125537\n",
            "MSE after optimization:  0.0023641253355890512\n",
            "cashed quant Inputfeatures.1.conv.1\n",
            "\n",
            "Optimize 2:features.1.conv.1 for 16 bit of shape torch.Size([16, 32, 1, 1])\n"
          ]
        },
        {
          "name": "stderr",
          "output_type": "stream",
          "text": [
            "100%|██████████| 100/100 [00:01<00:00, 60.32it/s]\n"
          ]
        },
        {
          "name": "stdout",
          "output_type": "stream",
          "text": [
            "\n",
            "MSE before optimization: 0.004283393733203411\n",
            "MSE after optimization:  0.004258161410689354\n",
            "cashed quant Inputfeatures.2.conv.0.0\n",
            "\n",
            "Optimize 3:features.2.conv.0.0 for 16 bit of shape torch.Size([96, 16, 1, 1])\n"
          ]
        },
        {
          "name": "stderr",
          "output_type": "stream",
          "text": [
            "100%|██████████| 100/100 [00:01<00:00, 55.77it/s]\n"
          ]
        },
        {
          "name": "stdout",
          "output_type": "stream",
          "text": [
            "\n",
            "MSE before optimization: 0.054172541946172714\n",
            "MSE after optimization:  0.054167620837688446\n",
            "cashed quant Inputfeatures.2.conv.1.0\n",
            "\n",
            "Optimize 4:features.2.conv.1.0 for 16 bit of shape torch.Size([96, 1, 3, 3])\n"
          ]
        },
        {
          "name": "stderr",
          "output_type": "stream",
          "text": [
            "100%|██████████| 100/100 [00:03<00:00, 25.72it/s]\n"
          ]
        },
        {
          "name": "stdout",
          "output_type": "stream",
          "text": [
            "\n",
            "MSE before optimization: 0.04506775736808777\n",
            "MSE after optimization:  0.03611450269818306\n",
            "cashed quant Inputfeatures.2.conv.2\n",
            "\n",
            "Optimize 5:features.2.conv.2 for 16 bit of shape torch.Size([24, 96, 1, 1])\n"
          ]
        },
        {
          "name": "stderr",
          "output_type": "stream",
          "text": [
            "100%|██████████| 100/100 [00:01<00:00, 71.85it/s]\n"
          ]
        },
        {
          "name": "stdout",
          "output_type": "stream",
          "text": [
            "\n",
            "MSE before optimization: 0.08556658774614334\n",
            "MSE after optimization:  0.08477919548749924\n",
            "cashed quant Inputfeatures.3.conv.0.0\n",
            "\n",
            "Optimize 6:features.3.conv.0.0 for 16 bit of shape torch.Size([144, 24, 1, 1])\n"
          ]
        },
        {
          "name": "stderr",
          "output_type": "stream",
          "text": [
            "100%|██████████| 100/100 [00:00<00:00, 107.50it/s]\n"
          ]
        },
        {
          "name": "stdout",
          "output_type": "stream",
          "text": [
            "\n",
            "MSE before optimization: 0.08259257674217224\n",
            "MSE after optimization:  0.07584337145090103\n",
            "cashed quant Inputfeatures.3.conv.1.0\n",
            "\n",
            "Optimize 7:features.3.conv.1.0 for 16 bit of shape torch.Size([144, 1, 3, 3])\n"
          ]
        },
        {
          "name": "stderr",
          "output_type": "stream",
          "text": [
            "100%|██████████| 100/100 [00:02<00:00, 45.19it/s]\n"
          ]
        },
        {
          "name": "stdout",
          "output_type": "stream",
          "text": [
            "\n",
            "MSE before optimization: 0.00879143737256527\n",
            "MSE after optimization:  0.002650820417329669\n",
            "cashed quant Inputfeatures.3.conv.2\n",
            "\n",
            "Optimize 8:features.3.conv.2 for 16 bit of shape torch.Size([24, 144, 1, 1])\n"
          ]
        },
        {
          "name": "stderr",
          "output_type": "stream",
          "text": [
            "100%|██████████| 100/100 [00:01<00:00, 58.72it/s]\n"
          ]
        },
        {
          "name": "stdout",
          "output_type": "stream",
          "text": [
            "\n",
            "MSE before optimization: 0.01846202462911606\n",
            "MSE after optimization:  0.01537800021469593\n",
            "cashed quant Inputfeatures.4.conv.0.0\n",
            "\n",
            "Optimize 9:features.4.conv.0.0 for 16 bit of shape torch.Size([144, 24, 1, 1])\n"
          ]
        },
        {
          "name": "stderr",
          "output_type": "stream",
          "text": [
            "100%|██████████| 100/100 [00:00<00:00, 108.65it/s]\n"
          ]
        },
        {
          "name": "stdout",
          "output_type": "stream",
          "text": [
            "\n",
            "MSE before optimization: 0.21304535865783691\n",
            "MSE after optimization:  0.18670542538166046\n",
            "cashed quant Inputfeatures.4.conv.1.0\n",
            "\n",
            "Optimize 10:features.4.conv.1.0 for 16 bit of shape torch.Size([144, 1, 3, 3])\n"
          ]
        },
        {
          "name": "stderr",
          "output_type": "stream",
          "text": [
            "100%|██████████| 100/100 [00:01<00:00, 58.44it/s]\n"
          ]
        },
        {
          "name": "stdout",
          "output_type": "stream",
          "text": [
            "\n",
            "MSE before optimization: 0.09348934888839722\n",
            "MSE after optimization:  0.021651096642017365\n",
            "cashed quant Inputfeatures.4.conv.2\n",
            "\n",
            "Optimize 11:features.4.conv.2 for 16 bit of shape torch.Size([32, 144, 1, 1])\n"
          ]
        },
        {
          "name": "stderr",
          "output_type": "stream",
          "text": [
            "100%|██████████| 100/100 [00:00<00:00, 178.96it/s]\n"
          ]
        },
        {
          "name": "stdout",
          "output_type": "stream",
          "text": [
            "\n",
            "MSE before optimization: 1.500240445137024\n",
            "MSE after optimization:  1.3666824102401733\n",
            "cashed quant Inputfeatures.5.conv.0.0\n",
            "\n",
            "Optimize 12:features.5.conv.0.0 for 16 bit of shape torch.Size([192, 32, 1, 1])\n"
          ]
        },
        {
          "name": "stderr",
          "output_type": "stream",
          "text": [
            "100%|██████████| 100/100 [00:00<00:00, 206.68it/s]\n"
          ]
        },
        {
          "name": "stdout",
          "output_type": "stream",
          "text": [
            "\n",
            "MSE before optimization: 1.5228556394577026\n",
            "MSE after optimization:  1.3319298028945923\n",
            "cashed quant Inputfeatures.5.conv.1.0\n",
            "\n",
            "Optimize 13:features.5.conv.1.0 for 16 bit of shape torch.Size([192, 1, 3, 3])\n"
          ]
        },
        {
          "name": "stderr",
          "output_type": "stream",
          "text": [
            "100%|██████████| 100/100 [00:00<00:00, 155.53it/s]\n"
          ]
        },
        {
          "name": "stdout",
          "output_type": "stream",
          "text": [
            "\n",
            "MSE before optimization: 0.04442393779754639\n",
            "MSE after optimization:  0.04099470004439354\n",
            "cashed quant Inputfeatures.5.conv.2\n",
            "\n",
            "Optimize 14:features.5.conv.2 for 16 bit of shape torch.Size([32, 192, 1, 1])\n"
          ]
        },
        {
          "name": "stderr",
          "output_type": "stream",
          "text": [
            "100%|██████████| 100/100 [00:00<00:00, 162.60it/s]\n"
          ]
        },
        {
          "name": "stdout",
          "output_type": "stream",
          "text": [
            "\n",
            "MSE before optimization: 0.7455307245254517\n",
            "MSE after optimization:  0.6483004689216614\n",
            "cashed quant Inputfeatures.6.conv.0.0\n",
            "\n",
            "Optimize 15:features.6.conv.0.0 for 16 bit of shape torch.Size([192, 32, 1, 1])\n"
          ]
        },
        {
          "name": "stderr",
          "output_type": "stream",
          "text": [
            "100%|██████████| 100/100 [00:00<00:00, 207.02it/s]\n"
          ]
        },
        {
          "name": "stdout",
          "output_type": "stream",
          "text": [
            "\n",
            "MSE before optimization: 2.0296096801757812\n",
            "MSE after optimization:  1.6896275281906128\n",
            "cashed quant Inputfeatures.6.conv.1.0\n",
            "\n",
            "Optimize 16:features.6.conv.1.0 for 16 bit of shape torch.Size([192, 1, 3, 3])\n"
          ]
        },
        {
          "name": "stderr",
          "output_type": "stream",
          "text": [
            "100%|██████████| 100/100 [00:00<00:00, 155.09it/s]\n"
          ]
        },
        {
          "name": "stdout",
          "output_type": "stream",
          "text": [
            "\n",
            "MSE before optimization: 0.03562048077583313\n",
            "MSE after optimization:  0.035278838127851486\n",
            "cashed quant Inputfeatures.6.conv.2\n",
            "\n",
            "Optimize 17:features.6.conv.2 for 16 bit of shape torch.Size([32, 192, 1, 1])\n"
          ]
        },
        {
          "name": "stderr",
          "output_type": "stream",
          "text": [
            "100%|██████████| 100/100 [00:00<00:00, 163.65it/s]\n"
          ]
        },
        {
          "name": "stdout",
          "output_type": "stream",
          "text": [
            "\n",
            "MSE before optimization: 0.3629627227783203\n",
            "MSE after optimization:  0.33735641837120056\n",
            "cashed quant Inputfeatures.7.conv.0.0\n",
            "\n",
            "Optimize 18:features.7.conv.0.0 for 16 bit of shape torch.Size([192, 32, 1, 1])\n"
          ]
        },
        {
          "name": "stderr",
          "output_type": "stream",
          "text": [
            "100%|██████████| 100/100 [00:00<00:00, 203.62it/s]\n"
          ]
        },
        {
          "name": "stdout",
          "output_type": "stream",
          "text": [
            "\n",
            "MSE before optimization: 2.412761688232422\n",
            "MSE after optimization:  2.225236415863037\n",
            "cashed quant Inputfeatures.7.conv.1.0\n",
            "\n",
            "Optimize 19:features.7.conv.1.0 for 16 bit of shape torch.Size([192, 1, 3, 3])\n"
          ]
        },
        {
          "name": "stderr",
          "output_type": "stream",
          "text": [
            "100%|██████████| 100/100 [00:00<00:00, 162.15it/s]\n"
          ]
        },
        {
          "name": "stdout",
          "output_type": "stream",
          "text": [
            "\n",
            "MSE before optimization: 0.1444796770811081\n",
            "MSE after optimization:  0.07677663117647171\n",
            "cashed quant Inputfeatures.7.conv.2\n",
            "\n",
            "Optimize 20:features.7.conv.2 for 16 bit of shape torch.Size([64, 192, 1, 1])\n"
          ]
        },
        {
          "name": "stderr",
          "output_type": "stream",
          "text": [
            "100%|██████████| 100/100 [00:00<00:00, 206.53it/s]\n"
          ]
        },
        {
          "name": "stdout",
          "output_type": "stream",
          "text": [
            "\n",
            "MSE before optimization: 1.5324370861053467\n",
            "MSE after optimization:  1.3425403833389282\n",
            "cashed quant Inputfeatures.8.conv.0.0\n",
            "\n",
            "Optimize 21:features.8.conv.0.0 for 16 bit of shape torch.Size([384, 64, 1, 1])\n"
          ]
        },
        {
          "name": "stderr",
          "output_type": "stream",
          "text": [
            "100%|██████████| 100/100 [00:00<00:00, 186.90it/s]\n"
          ]
        },
        {
          "name": "stdout",
          "output_type": "stream",
          "text": [
            "\n",
            "MSE before optimization: 2.2249653339385986\n",
            "MSE after optimization:  2.1753475666046143\n",
            "cashed quant Inputfeatures.8.conv.1.0\n",
            "\n",
            "Optimize 22:features.8.conv.1.0 for 16 bit of shape torch.Size([384, 1, 3, 3])\n"
          ]
        },
        {
          "name": "stderr",
          "output_type": "stream",
          "text": [
            "100%|██████████| 100/100 [00:00<00:00, 108.74it/s]\n"
          ]
        },
        {
          "name": "stdout",
          "output_type": "stream",
          "text": [
            "\n",
            "MSE before optimization: 0.015582863241434097\n",
            "MSE after optimization:  0.013108450919389725\n",
            "cashed quant Inputfeatures.8.conv.2\n",
            "\n",
            "Optimize 23:features.8.conv.2 for 16 bit of shape torch.Size([64, 384, 1, 1])\n"
          ]
        },
        {
          "name": "stderr",
          "output_type": "stream",
          "text": [
            "100%|██████████| 100/100 [00:00<00:00, 153.68it/s]\n"
          ]
        },
        {
          "name": "stdout",
          "output_type": "stream",
          "text": [
            "\n",
            "MSE before optimization: 0.5019829273223877\n",
            "MSE after optimization:  0.4866074323654175\n",
            "cashed quant Inputfeatures.9.conv.0.0\n",
            "\n",
            "Optimize 24:features.9.conv.0.0 for 16 bit of shape torch.Size([384, 64, 1, 1])\n"
          ]
        },
        {
          "name": "stderr",
          "output_type": "stream",
          "text": [
            "100%|██████████| 100/100 [00:00<00:00, 185.49it/s]\n"
          ]
        },
        {
          "name": "stdout",
          "output_type": "stream",
          "text": [
            "\n",
            "MSE before optimization: 1.8185451030731201\n",
            "MSE after optimization:  1.8164318799972534\n",
            "cashed quant Inputfeatures.9.conv.1.0\n",
            "\n",
            "Optimize 25:features.9.conv.1.0 for 16 bit of shape torch.Size([384, 1, 3, 3])\n"
          ]
        },
        {
          "name": "stderr",
          "output_type": "stream",
          "text": [
            "100%|██████████| 100/100 [00:00<00:00, 107.20it/s]\n"
          ]
        },
        {
          "name": "stdout",
          "output_type": "stream",
          "text": [
            "\n",
            "MSE before optimization: 0.0016554062021896243\n",
            "MSE after optimization:  0.001578915398567915\n",
            "cashed quant Inputfeatures.9.conv.2\n",
            "\n",
            "Optimize 26:features.9.conv.2 for 16 bit of shape torch.Size([64, 384, 1, 1])\n"
          ]
        },
        {
          "name": "stderr",
          "output_type": "stream",
          "text": [
            "100%|██████████| 100/100 [00:00<00:00, 158.61it/s]\n"
          ]
        },
        {
          "name": "stdout",
          "output_type": "stream",
          "text": [
            "\n",
            "MSE before optimization: 0.039184652268886566\n",
            "MSE after optimization:  0.038475584238767624\n",
            "cashed quant Inputfeatures.10.conv.0.0\n",
            "\n",
            "Optimize 27:features.10.conv.0.0 for 16 bit of shape torch.Size([384, 64, 1, 1])\n"
          ]
        },
        {
          "name": "stderr",
          "output_type": "stream",
          "text": [
            "100%|██████████| 100/100 [00:00<00:00, 174.99it/s]\n"
          ]
        },
        {
          "name": "stdout",
          "output_type": "stream",
          "text": [
            "\n",
            "MSE before optimization: 0.8278619050979614\n",
            "MSE after optimization:  0.8216145038604736\n",
            "cashed quant Inputfeatures.10.conv.1.0\n",
            "\n",
            "Optimize 28:features.10.conv.1.0 for 16 bit of shape torch.Size([384, 1, 3, 3])\n"
          ]
        },
        {
          "name": "stderr",
          "output_type": "stream",
          "text": [
            "100%|██████████| 100/100 [00:00<00:00, 108.45it/s]\n"
          ]
        },
        {
          "name": "stdout",
          "output_type": "stream",
          "text": [
            "\n",
            "MSE before optimization: 0.001437150640413165\n",
            "MSE after optimization:  0.0012476203264668584\n",
            "cashed quant Inputfeatures.10.conv.2\n",
            "\n",
            "Optimize 29:features.10.conv.2 for 16 bit of shape torch.Size([64, 384, 1, 1])\n"
          ]
        },
        {
          "name": "stderr",
          "output_type": "stream",
          "text": [
            "100%|██████████| 100/100 [00:00<00:00, 162.08it/s]\n"
          ]
        },
        {
          "name": "stdout",
          "output_type": "stream",
          "text": [
            "\n",
            "MSE before optimization: 0.04780501872301102\n",
            "MSE after optimization:  0.0305231474339962\n",
            "cashed quant Inputfeatures.11.conv.0.0\n",
            "\n",
            "Optimize 30:features.11.conv.0.0 for 16 bit of shape torch.Size([384, 64, 1, 1])\n"
          ]
        },
        {
          "name": "stderr",
          "output_type": "stream",
          "text": [
            "100%|██████████| 100/100 [00:00<00:00, 183.08it/s]\n"
          ]
        },
        {
          "name": "stdout",
          "output_type": "stream",
          "text": [
            "\n",
            "MSE before optimization: 5.936518669128418\n",
            "MSE after optimization:  5.865442752838135\n",
            "cashed quant Inputfeatures.11.conv.1.0\n",
            "\n",
            "Optimize 31:features.11.conv.1.0 for 16 bit of shape torch.Size([384, 1, 3, 3])\n"
          ]
        },
        {
          "name": "stderr",
          "output_type": "stream",
          "text": [
            "100%|██████████| 100/100 [00:00<00:00, 108.37it/s]\n"
          ]
        },
        {
          "name": "stdout",
          "output_type": "stream",
          "text": [
            "\n",
            "MSE before optimization: 0.039062391966581345\n",
            "MSE after optimization:  0.036286137998104095\n",
            "cashed quant Inputfeatures.11.conv.2\n",
            "\n",
            "Optimize 32:features.11.conv.2 for 16 bit of shape torch.Size([96, 384, 1, 1])\n"
          ]
        },
        {
          "name": "stderr",
          "output_type": "stream",
          "text": [
            "100%|██████████| 100/100 [00:00<00:00, 154.18it/s]\n"
          ]
        },
        {
          "name": "stdout",
          "output_type": "stream",
          "text": [
            "\n",
            "MSE before optimization: 0.9239405393600464\n",
            "MSE after optimization:  0.8927596807479858\n",
            "cashed quant Inputfeatures.12.conv.0.0\n",
            "\n",
            "Optimize 33:features.12.conv.0.0 for 16 bit of shape torch.Size([576, 96, 1, 1])\n"
          ]
        },
        {
          "name": "stderr",
          "output_type": "stream",
          "text": [
            "100%|██████████| 100/100 [00:00<00:00, 150.12it/s]\n"
          ]
        },
        {
          "name": "stdout",
          "output_type": "stream",
          "text": [
            "\n",
            "MSE before optimization: 0.13722100853919983\n",
            "MSE after optimization:  0.13598203659057617\n",
            "cashed quant Inputfeatures.12.conv.1.0\n",
            "\n",
            "Optimize 34:features.12.conv.1.0 for 16 bit of shape torch.Size([576, 1, 3, 3])\n"
          ]
        },
        {
          "name": "stderr",
          "output_type": "stream",
          "text": [
            "100%|██████████| 100/100 [00:01<00:00, 81.84it/s]\n"
          ]
        },
        {
          "name": "stdout",
          "output_type": "stream",
          "text": [
            "\n",
            "MSE before optimization: 0.0007228347240015864\n",
            "MSE after optimization:  0.00048806500853970647\n",
            "cashed quant Inputfeatures.12.conv.2\n",
            "\n",
            "Optimize 35:features.12.conv.2 for 16 bit of shape torch.Size([96, 576, 1, 1])\n"
          ]
        },
        {
          "name": "stderr",
          "output_type": "stream",
          "text": [
            "100%|██████████| 100/100 [00:00<00:00, 129.50it/s]\n"
          ]
        },
        {
          "name": "stdout",
          "output_type": "stream",
          "text": [
            "\n",
            "MSE before optimization: 0.09585731476545334\n",
            "MSE after optimization:  0.06792259216308594\n",
            "cashed quant Inputfeatures.13.conv.0.0\n",
            "\n",
            "Optimize 36:features.13.conv.0.0 for 16 bit of shape torch.Size([576, 96, 1, 1])\n"
          ]
        },
        {
          "name": "stderr",
          "output_type": "stream",
          "text": [
            "100%|██████████| 100/100 [00:00<00:00, 152.64it/s]\n"
          ]
        },
        {
          "name": "stdout",
          "output_type": "stream",
          "text": [
            "\n",
            "MSE before optimization: 0.15930941700935364\n",
            "MSE after optimization:  0.15736731886863708\n",
            "cashed quant Inputfeatures.13.conv.1.0\n",
            "\n",
            "Optimize 37:features.13.conv.1.0 for 16 bit of shape torch.Size([576, 1, 3, 3])\n"
          ]
        },
        {
          "name": "stderr",
          "output_type": "stream",
          "text": [
            "100%|██████████| 100/100 [00:01<00:00, 81.28it/s]\n"
          ]
        },
        {
          "name": "stdout",
          "output_type": "stream",
          "text": [
            "\n",
            "MSE before optimization: 0.0006203069351613522\n",
            "MSE after optimization:  0.00041877332841977477\n",
            "cashed quant Inputfeatures.13.conv.2\n",
            "\n",
            "Optimize 38:features.13.conv.2 for 16 bit of shape torch.Size([96, 576, 1, 1])\n"
          ]
        },
        {
          "name": "stderr",
          "output_type": "stream",
          "text": [
            "100%|██████████| 100/100 [00:00<00:00, 132.28it/s]\n"
          ]
        },
        {
          "name": "stdout",
          "output_type": "stream",
          "text": [
            "\n",
            "MSE before optimization: 0.05967211350798607\n",
            "MSE after optimization:  0.029304921627044678\n",
            "cashed quant Inputfeatures.14.conv.0.0\n",
            "\n",
            "Optimize 39:features.14.conv.0.0 for 16 bit of shape torch.Size([576, 96, 1, 1])\n"
          ]
        },
        {
          "name": "stderr",
          "output_type": "stream",
          "text": [
            "100%|██████████| 100/100 [00:00<00:00, 151.66it/s]\n"
          ]
        },
        {
          "name": "stdout",
          "output_type": "stream",
          "text": [
            "\n",
            "MSE before optimization: 0.2607429325580597\n",
            "MSE after optimization:  0.25613853335380554\n",
            "cashed quant Inputfeatures.14.conv.1.0\n",
            "\n",
            "Optimize 40:features.14.conv.1.0 for 16 bit of shape torch.Size([576, 1, 3, 3])\n"
          ]
        },
        {
          "name": "stderr",
          "output_type": "stream",
          "text": [
            "100%|██████████| 100/100 [00:01<00:00, 85.30it/s]\n"
          ]
        },
        {
          "name": "stdout",
          "output_type": "stream",
          "text": [
            "\n",
            "MSE before optimization: 0.0032731671817600727\n",
            "MSE after optimization:  0.0005295780138112605\n",
            "cashed quant Inputfeatures.14.conv.2\n",
            "\n",
            "Optimize 41:features.14.conv.2 for 16 bit of shape torch.Size([160, 576, 1, 1])\n"
          ]
        },
        {
          "name": "stderr",
          "output_type": "stream",
          "text": [
            "100%|██████████| 100/100 [00:00<00:00, 140.02it/s]\n"
          ]
        },
        {
          "name": "stdout",
          "output_type": "stream",
          "text": [
            "\n",
            "MSE before optimization: 0.1617947816848755\n",
            "MSE after optimization:  0.1583632230758667\n",
            "cashed quant Inputfeatures.15.conv.0.0\n",
            "\n",
            "Optimize 42:features.15.conv.0.0 for 16 bit of shape torch.Size([960, 160, 1, 1])\n"
          ]
        },
        {
          "name": "stderr",
          "output_type": "stream",
          "text": [
            "100%|██████████| 100/100 [00:00<00:00, 122.38it/s]\n"
          ]
        },
        {
          "name": "stdout",
          "output_type": "stream",
          "text": [
            "\n",
            "MSE before optimization: 0.8263415694236755\n",
            "MSE after optimization:  0.7813980579376221\n",
            "cashed quant Inputfeatures.15.conv.1.0\n",
            "\n",
            "Optimize 43:features.15.conv.1.0 for 16 bit of shape torch.Size([960, 1, 3, 3])\n"
          ]
        },
        {
          "name": "stderr",
          "output_type": "stream",
          "text": [
            "100%|██████████| 100/100 [00:01<00:00, 66.62it/s]\n"
          ]
        },
        {
          "name": "stdout",
          "output_type": "stream",
          "text": [
            "\n",
            "MSE before optimization: 0.0019423860358074307\n",
            "MSE after optimization:  0.0017883158288896084\n",
            "cashed quant Inputfeatures.15.conv.2\n",
            "\n",
            "Optimize 44:features.15.conv.2 for 16 bit of shape torch.Size([160, 960, 1, 1])\n"
          ]
        },
        {
          "name": "stderr",
          "output_type": "stream",
          "text": [
            "100%|██████████| 100/100 [00:00<00:00, 120.95it/s]\n"
          ]
        },
        {
          "name": "stdout",
          "output_type": "stream",
          "text": [
            "\n",
            "MSE before optimization: 0.05304718017578125\n",
            "MSE after optimization:  0.028489775955677032\n",
            "cashed quant Inputfeatures.16.conv.0.0\n",
            "\n",
            "Optimize 45:features.16.conv.0.0 for 16 bit of shape torch.Size([960, 160, 1, 1])\n"
          ]
        },
        {
          "name": "stderr",
          "output_type": "stream",
          "text": [
            "100%|██████████| 100/100 [00:00<00:00, 119.22it/s]\n"
          ]
        },
        {
          "name": "stdout",
          "output_type": "stream",
          "text": [
            "\n",
            "MSE before optimization: 8.351783752441406\n",
            "MSE after optimization:  4.83101749420166\n",
            "cashed quant Inputfeatures.16.conv.1.0\n",
            "\n",
            "Optimize 46:features.16.conv.1.0 for 16 bit of shape torch.Size([960, 1, 3, 3])\n"
          ]
        },
        {
          "name": "stderr",
          "output_type": "stream",
          "text": [
            "100%|██████████| 100/100 [00:01<00:00, 67.05it/s]\n"
          ]
        },
        {
          "name": "stdout",
          "output_type": "stream",
          "text": [
            "\n",
            "MSE before optimization: 0.003354980144649744\n",
            "MSE after optimization:  0.001665507908910513\n",
            "cashed quant Inputfeatures.16.conv.2\n",
            "\n",
            "Optimize 47:features.16.conv.2 for 16 bit of shape torch.Size([160, 960, 1, 1])\n"
          ]
        },
        {
          "name": "stderr",
          "output_type": "stream",
          "text": [
            "100%|██████████| 100/100 [00:00<00:00, 117.63it/s]\n"
          ]
        },
        {
          "name": "stdout",
          "output_type": "stream",
          "text": [
            "\n",
            "MSE before optimization: 1.386160135269165\n",
            "MSE after optimization:  0.5862509608268738\n",
            "cashed quant Inputfeatures.17.conv.0.0\n",
            "\n",
            "Optimize 48:features.17.conv.0.0 for 16 bit of shape torch.Size([960, 160, 1, 1])\n"
          ]
        },
        {
          "name": "stderr",
          "output_type": "stream",
          "text": [
            "100%|██████████| 100/100 [00:00<00:00, 123.22it/s]\n"
          ]
        },
        {
          "name": "stdout",
          "output_type": "stream",
          "text": [
            "\n",
            "MSE before optimization: 133.28131103515625\n",
            "MSE after optimization:  106.17035675048828\n",
            "cashed quant Inputfeatures.17.conv.1.0\n",
            "\n",
            "Optimize 49:features.17.conv.1.0 for 16 bit of shape torch.Size([960, 1, 3, 3])\n"
          ]
        },
        {
          "name": "stderr",
          "output_type": "stream",
          "text": [
            "100%|██████████| 100/100 [00:01<00:00, 67.04it/s]\n"
          ]
        },
        {
          "name": "stdout",
          "output_type": "stream",
          "text": [
            "\n",
            "MSE before optimization: 0.005192582495510578\n",
            "MSE after optimization:  0.0014848564751446247\n",
            "cashed quant Inputfeatures.17.conv.2\n",
            "\n",
            "Optimize 50:features.17.conv.2 for 16 bit of shape torch.Size([320, 960, 1, 1])\n"
          ]
        },
        {
          "name": "stderr",
          "output_type": "stream",
          "text": [
            "100%|██████████| 100/100 [00:01<00:00, 54.89it/s]\n"
          ]
        },
        {
          "name": "stdout",
          "output_type": "stream",
          "text": [
            "\n",
            "MSE before optimization: 1.132315993309021\n",
            "MSE after optimization:  0.6111922860145569\n",
            "cashed quant Inputfeatures.18.0\n",
            "\n",
            "Optimize 51:features.18.0 for 16 bit of shape torch.Size([1280, 320, 1, 1])\n"
          ]
        },
        {
          "name": "stderr",
          "output_type": "stream",
          "text": [
            "100%|██████████| 100/100 [00:02<00:00, 48.44it/s]\n"
          ]
        },
        {
          "name": "stdout",
          "output_type": "stream",
          "text": [
            "\n",
            "MSE before optimization: 10.357117652893066\n",
            "MSE after optimization:  9.942380905151367\n",
            "cashed quant Inputclassifier.1\n",
            "\n",
            "Optimize 52:classifier.1 for 16 bit of shape torch.Size([10, 1280])\n"
          ]
        },
        {
          "name": "stderr",
          "output_type": "stream",
          "text": [
            "100%|██████████| 100/100 [00:00<00:00, 187.55it/s]\n"
          ]
        },
        {
          "name": "stdout",
          "output_type": "stream",
          "text": [
            "\n",
            "MSE before optimization: 3342.2685546875\n",
            "MSE after optimization:  3057.6669921875\n",
            "Calibration accuracy after quantization for 16 bits 9.90990990990991.\n",
            "Train accuracy after quantization for 16 bits 9.701940388077615.\n",
            "Calibration accuracy before quantization for 32 bits 44.44444444444444.\n",
            "Train accuracy before quantization for 32 bits 46.069213842768555.\n",
            "\n",
            "Optimize 0:features.0.0 for 32 bit of shape torch.Size([32, 3, 3, 3])\n"
          ]
        },
        {
          "name": "stderr",
          "output_type": "stream",
          "text": [
            "100%|██████████| 100/100 [00:01<00:00, 97.38it/s]\n"
          ]
        },
        {
          "name": "stdout",
          "output_type": "stream",
          "text": [
            "\n",
            "MSE before optimization: 0.2901204228401184\n",
            "MSE after optimization:  0.03194919973611832\n",
            "cashed quant Inputfeatures.1.conv.0.0\n",
            "\n",
            "Optimize 1:features.1.conv.0.0 for 32 bit of shape torch.Size([32, 1, 3, 3])\n"
          ]
        },
        {
          "name": "stderr",
          "output_type": "stream",
          "text": [
            "100%|██████████| 100/100 [00:01<00:00, 54.36it/s]\n"
          ]
        },
        {
          "name": "stdout",
          "output_type": "stream",
          "text": [
            "\n",
            "MSE before optimization: 0.002353483345359564\n",
            "MSE after optimization:  0.0023393863812088966\n",
            "cashed quant Inputfeatures.1.conv.1\n",
            "\n",
            "Optimize 2:features.1.conv.1 for 32 bit of shape torch.Size([16, 32, 1, 1])\n"
          ]
        },
        {
          "name": "stderr",
          "output_type": "stream",
          "text": [
            "100%|██████████| 100/100 [00:01<00:00, 63.02it/s]\n"
          ]
        },
        {
          "name": "stdout",
          "output_type": "stream",
          "text": [
            "\n",
            "MSE before optimization: 0.003870421089231968\n",
            "MSE after optimization:  0.0038495459593832493\n",
            "cashed quant Inputfeatures.2.conv.0.0\n",
            "\n",
            "Optimize 3:features.2.conv.0.0 for 32 bit of shape torch.Size([96, 16, 1, 1])\n"
          ]
        },
        {
          "name": "stderr",
          "output_type": "stream",
          "text": [
            "100%|██████████| 100/100 [00:01<00:00, 56.80it/s]\n"
          ]
        },
        {
          "name": "stdout",
          "output_type": "stream",
          "text": [
            "\n",
            "MSE before optimization: 0.05388159304857254\n",
            "MSE after optimization:  0.05387691408395767\n",
            "cashed quant Inputfeatures.2.conv.1.0\n",
            "\n",
            "Optimize 4:features.2.conv.1.0 for 32 bit of shape torch.Size([96, 1, 3, 3])\n"
          ]
        },
        {
          "name": "stderr",
          "output_type": "stream",
          "text": [
            "100%|██████████| 100/100 [00:03<00:00, 25.88it/s]\n"
          ]
        },
        {
          "name": "stdout",
          "output_type": "stream",
          "text": [
            "\n",
            "MSE before optimization: 0.04509247839450836\n",
            "MSE after optimization:  0.0362536646425724\n",
            "cashed quant Inputfeatures.2.conv.2\n",
            "\n",
            "Optimize 5:features.2.conv.2 for 32 bit of shape torch.Size([24, 96, 1, 1])\n"
          ]
        },
        {
          "name": "stderr",
          "output_type": "stream",
          "text": [
            "100%|██████████| 100/100 [00:01<00:00, 75.26it/s]\n"
          ]
        },
        {
          "name": "stdout",
          "output_type": "stream",
          "text": [
            "\n",
            "MSE before optimization: 0.08577434718608856\n",
            "MSE after optimization:  0.08505485951900482\n",
            "cashed quant Inputfeatures.3.conv.0.0\n",
            "\n",
            "Optimize 6:features.3.conv.0.0 for 32 bit of shape torch.Size([144, 24, 1, 1])\n"
          ]
        },
        {
          "name": "stderr",
          "output_type": "stream",
          "text": [
            "100%|██████████| 100/100 [00:00<00:00, 108.60it/s]\n"
          ]
        },
        {
          "name": "stdout",
          "output_type": "stream",
          "text": [
            "\n",
            "MSE before optimization: 0.08293136954307556\n",
            "MSE after optimization:  0.07574950903654099\n",
            "cashed quant Inputfeatures.3.conv.1.0\n",
            "\n",
            "Optimize 7:features.3.conv.1.0 for 32 bit of shape torch.Size([144, 1, 3, 3])\n"
          ]
        },
        {
          "name": "stderr",
          "output_type": "stream",
          "text": [
            "100%|██████████| 100/100 [00:02<00:00, 49.13it/s]\n"
          ]
        },
        {
          "name": "stdout",
          "output_type": "stream",
          "text": [
            "\n",
            "MSE before optimization: 0.008901816792786121\n",
            "MSE after optimization:  0.002669342327862978\n",
            "cashed quant Inputfeatures.3.conv.2\n",
            "\n",
            "Optimize 8:features.3.conv.2 for 32 bit of shape torch.Size([24, 144, 1, 1])\n"
          ]
        },
        {
          "name": "stderr",
          "output_type": "stream",
          "text": [
            "100%|██████████| 100/100 [00:01<00:00, 59.72it/s]\n"
          ]
        },
        {
          "name": "stdout",
          "output_type": "stream",
          "text": [
            "\n",
            "MSE before optimization: 0.018773512914776802\n",
            "MSE after optimization:  0.01586257293820381\n",
            "cashed quant Inputfeatures.4.conv.0.0\n",
            "\n",
            "Optimize 9:features.4.conv.0.0 for 32 bit of shape torch.Size([144, 24, 1, 1])\n"
          ]
        },
        {
          "name": "stderr",
          "output_type": "stream",
          "text": [
            "100%|██████████| 100/100 [00:01<00:00, 99.56it/s]\n"
          ]
        },
        {
          "name": "stdout",
          "output_type": "stream",
          "text": [
            "\n",
            "MSE before optimization: 0.2163960039615631\n",
            "MSE after optimization:  0.19049617648124695\n",
            "cashed quant Inputfeatures.4.conv.1.0\n",
            "\n",
            "Optimize 10:features.4.conv.1.0 for 32 bit of shape torch.Size([144, 1, 3, 3])\n"
          ]
        },
        {
          "name": "stderr",
          "output_type": "stream",
          "text": [
            "100%|██████████| 100/100 [00:01<00:00, 60.20it/s]\n"
          ]
        },
        {
          "name": "stdout",
          "output_type": "stream",
          "text": [
            "\n",
            "MSE before optimization: 0.09254011511802673\n",
            "MSE after optimization:  0.019393833354115486\n",
            "cashed quant Inputfeatures.4.conv.2\n",
            "\n",
            "Optimize 11:features.4.conv.2 for 32 bit of shape torch.Size([32, 144, 1, 1])\n"
          ]
        },
        {
          "name": "stderr",
          "output_type": "stream",
          "text": [
            "100%|██████████| 100/100 [00:00<00:00, 183.71it/s]\n"
          ]
        },
        {
          "name": "stdout",
          "output_type": "stream",
          "text": [
            "\n",
            "MSE before optimization: 1.4912930727005005\n",
            "MSE after optimization:  1.3565928936004639\n",
            "cashed quant Inputfeatures.5.conv.0.0\n",
            "\n",
            "Optimize 12:features.5.conv.0.0 for 32 bit of shape torch.Size([192, 32, 1, 1])\n"
          ]
        },
        {
          "name": "stderr",
          "output_type": "stream",
          "text": [
            "100%|██████████| 100/100 [00:00<00:00, 203.47it/s]\n"
          ]
        },
        {
          "name": "stdout",
          "output_type": "stream",
          "text": [
            "\n",
            "MSE before optimization: 1.5189827680587769\n",
            "MSE after optimization:  1.3310425281524658\n",
            "cashed quant Inputfeatures.5.conv.1.0\n",
            "\n",
            "Optimize 13:features.5.conv.1.0 for 32 bit of shape torch.Size([192, 1, 3, 3])\n"
          ]
        },
        {
          "name": "stderr",
          "output_type": "stream",
          "text": [
            "100%|██████████| 100/100 [00:00<00:00, 155.43it/s]\n"
          ]
        },
        {
          "name": "stdout",
          "output_type": "stream",
          "text": [
            "\n",
            "MSE before optimization: 0.044315047562122345\n",
            "MSE after optimization:  0.04081190004944801\n",
            "cashed quant Inputfeatures.5.conv.2\n",
            "\n",
            "Optimize 14:features.5.conv.2 for 32 bit of shape torch.Size([32, 192, 1, 1])\n"
          ]
        },
        {
          "name": "stderr",
          "output_type": "stream",
          "text": [
            "100%|██████████| 100/100 [00:00<00:00, 163.41it/s]\n"
          ]
        },
        {
          "name": "stdout",
          "output_type": "stream",
          "text": [
            "\n",
            "MSE before optimization: 0.7608321905136108\n",
            "MSE after optimization:  0.6641325950622559\n",
            "cashed quant Inputfeatures.6.conv.0.0\n",
            "\n",
            "Optimize 15:features.6.conv.0.0 for 32 bit of shape torch.Size([192, 32, 1, 1])\n"
          ]
        },
        {
          "name": "stderr",
          "output_type": "stream",
          "text": [
            "100%|██████████| 100/100 [00:00<00:00, 202.73it/s]\n"
          ]
        },
        {
          "name": "stdout",
          "output_type": "stream",
          "text": [
            "\n",
            "MSE before optimization: 2.0198535919189453\n",
            "MSE after optimization:  1.6667664051055908\n",
            "cashed quant Inputfeatures.6.conv.1.0\n",
            "\n",
            "Optimize 16:features.6.conv.1.0 for 32 bit of shape torch.Size([192, 1, 3, 3])\n"
          ]
        },
        {
          "name": "stderr",
          "output_type": "stream",
          "text": [
            "100%|██████████| 100/100 [00:00<00:00, 156.55it/s]\n"
          ]
        },
        {
          "name": "stdout",
          "output_type": "stream",
          "text": [
            "\n",
            "MSE before optimization: 0.03540024906396866\n",
            "MSE after optimization:  0.0350542776286602\n",
            "cashed quant Inputfeatures.6.conv.2\n",
            "\n",
            "Optimize 17:features.6.conv.2 for 32 bit of shape torch.Size([32, 192, 1, 1])\n"
          ]
        },
        {
          "name": "stderr",
          "output_type": "stream",
          "text": [
            "100%|██████████| 100/100 [00:00<00:00, 165.52it/s]\n"
          ]
        },
        {
          "name": "stdout",
          "output_type": "stream",
          "text": [
            "\n",
            "MSE before optimization: 0.3707505762577057\n",
            "MSE after optimization:  0.34626632928848267\n",
            "cashed quant Inputfeatures.7.conv.0.0\n",
            "\n",
            "Optimize 18:features.7.conv.0.0 for 32 bit of shape torch.Size([192, 32, 1, 1])\n"
          ]
        },
        {
          "name": "stderr",
          "output_type": "stream",
          "text": [
            "100%|██████████| 100/100 [00:00<00:00, 185.76it/s]\n"
          ]
        },
        {
          "name": "stdout",
          "output_type": "stream",
          "text": [
            "\n",
            "MSE before optimization: 2.402863025665283\n",
            "MSE after optimization:  2.2181127071380615\n",
            "cashed quant Inputfeatures.7.conv.1.0\n",
            "\n",
            "Optimize 19:features.7.conv.1.0 for 32 bit of shape torch.Size([192, 1, 3, 3])\n"
          ]
        },
        {
          "name": "stderr",
          "output_type": "stream",
          "text": [
            "100%|██████████| 100/100 [00:00<00:00, 162.82it/s]\n"
          ]
        },
        {
          "name": "stdout",
          "output_type": "stream",
          "text": [
            "\n",
            "MSE before optimization: 0.14386354386806488\n",
            "MSE after optimization:  0.0753135085105896\n",
            "cashed quant Inputfeatures.7.conv.2\n",
            "\n",
            "Optimize 20:features.7.conv.2 for 32 bit of shape torch.Size([64, 192, 1, 1])\n"
          ]
        },
        {
          "name": "stderr",
          "output_type": "stream",
          "text": [
            "100%|██████████| 100/100 [00:00<00:00, 204.68it/s]\n"
          ]
        },
        {
          "name": "stdout",
          "output_type": "stream",
          "text": [
            "\n",
            "MSE before optimization: 1.5467418432235718\n",
            "MSE after optimization:  1.354270577430725\n",
            "cashed quant Inputfeatures.8.conv.0.0\n",
            "\n",
            "Optimize 21:features.8.conv.0.0 for 32 bit of shape torch.Size([384, 64, 1, 1])\n"
          ]
        },
        {
          "name": "stderr",
          "output_type": "stream",
          "text": [
            "100%|██████████| 100/100 [00:00<00:00, 180.43it/s]\n"
          ]
        },
        {
          "name": "stdout",
          "output_type": "stream",
          "text": [
            "\n",
            "MSE before optimization: 2.249444007873535\n",
            "MSE after optimization:  2.199111223220825\n",
            "cashed quant Inputfeatures.8.conv.1.0\n",
            "\n",
            "Optimize 22:features.8.conv.1.0 for 32 bit of shape torch.Size([384, 1, 3, 3])\n"
          ]
        },
        {
          "name": "stderr",
          "output_type": "stream",
          "text": [
            "100%|██████████| 100/100 [00:00<00:00, 108.59it/s]\n"
          ]
        },
        {
          "name": "stdout",
          "output_type": "stream",
          "text": [
            "\n",
            "MSE before optimization: 0.015696965157985687\n",
            "MSE after optimization:  0.013194052502512932\n",
            "cashed quant Inputfeatures.8.conv.2\n",
            "\n",
            "Optimize 23:features.8.conv.2 for 32 bit of shape torch.Size([64, 384, 1, 1])\n"
          ]
        },
        {
          "name": "stderr",
          "output_type": "stream",
          "text": [
            "100%|██████████| 100/100 [00:00<00:00, 158.65it/s]\n"
          ]
        },
        {
          "name": "stdout",
          "output_type": "stream",
          "text": [
            "\n",
            "MSE before optimization: 0.5054691433906555\n",
            "MSE after optimization:  0.4885207414627075\n",
            "cashed quant Inputfeatures.9.conv.0.0\n",
            "\n",
            "Optimize 24:features.9.conv.0.0 for 32 bit of shape torch.Size([384, 64, 1, 1])\n"
          ]
        },
        {
          "name": "stderr",
          "output_type": "stream",
          "text": [
            "100%|██████████| 100/100 [00:00<00:00, 184.36it/s]\n"
          ]
        },
        {
          "name": "stdout",
          "output_type": "stream",
          "text": [
            "\n",
            "MSE before optimization: 1.833777666091919\n",
            "MSE after optimization:  1.8315869569778442\n",
            "cashed quant Inputfeatures.9.conv.1.0\n",
            "\n",
            "Optimize 25:features.9.conv.1.0 for 32 bit of shape torch.Size([384, 1, 3, 3])\n"
          ]
        },
        {
          "name": "stderr",
          "output_type": "stream",
          "text": [
            "100%|██████████| 100/100 [00:00<00:00, 107.36it/s]\n"
          ]
        },
        {
          "name": "stdout",
          "output_type": "stream",
          "text": [
            "\n",
            "MSE before optimization: 0.0016527996631339192\n",
            "MSE after optimization:  0.001579910283908248\n",
            "cashed quant Inputfeatures.9.conv.2\n",
            "\n",
            "Optimize 26:features.9.conv.2 for 32 bit of shape torch.Size([64, 384, 1, 1])\n"
          ]
        },
        {
          "name": "stderr",
          "output_type": "stream",
          "text": [
            "100%|██████████| 100/100 [00:00<00:00, 158.16it/s]\n"
          ]
        },
        {
          "name": "stdout",
          "output_type": "stream",
          "text": [
            "\n",
            "MSE before optimization: 0.03970414772629738\n",
            "MSE after optimization:  0.039009831845760345\n",
            "cashed quant Inputfeatures.10.conv.0.0\n",
            "\n",
            "Optimize 27:features.10.conv.0.0 for 32 bit of shape torch.Size([384, 64, 1, 1])\n"
          ]
        },
        {
          "name": "stderr",
          "output_type": "stream",
          "text": [
            "100%|██████████| 100/100 [00:00<00:00, 180.15it/s]\n"
          ]
        },
        {
          "name": "stdout",
          "output_type": "stream",
          "text": [
            "\n",
            "MSE before optimization: 0.8347843289375305\n",
            "MSE after optimization:  0.8285118937492371\n",
            "cashed quant Inputfeatures.10.conv.1.0\n",
            "\n",
            "Optimize 28:features.10.conv.1.0 for 32 bit of shape torch.Size([384, 1, 3, 3])\n"
          ]
        },
        {
          "name": "stderr",
          "output_type": "stream",
          "text": [
            "100%|██████████| 100/100 [00:00<00:00, 108.75it/s]\n"
          ]
        },
        {
          "name": "stdout",
          "output_type": "stream",
          "text": [
            "\n",
            "MSE before optimization: 0.0014486649306491017\n",
            "MSE after optimization:  0.0012520732125267386\n",
            "cashed quant Inputfeatures.10.conv.2\n",
            "\n",
            "Optimize 29:features.10.conv.2 for 32 bit of shape torch.Size([64, 384, 1, 1])\n"
          ]
        },
        {
          "name": "stderr",
          "output_type": "stream",
          "text": [
            "100%|██████████| 100/100 [00:00<00:00, 159.09it/s]\n"
          ]
        },
        {
          "name": "stdout",
          "output_type": "stream",
          "text": [
            "\n",
            "MSE before optimization: 0.048595067113637924\n",
            "MSE after optimization:  0.03235112130641937\n",
            "cashed quant Inputfeatures.11.conv.0.0\n",
            "\n",
            "Optimize 30:features.11.conv.0.0 for 32 bit of shape torch.Size([384, 64, 1, 1])\n"
          ]
        },
        {
          "name": "stderr",
          "output_type": "stream",
          "text": [
            "100%|██████████| 100/100 [00:00<00:00, 184.54it/s]\n"
          ]
        },
        {
          "name": "stdout",
          "output_type": "stream",
          "text": [
            "\n",
            "MSE before optimization: 5.964440822601318\n",
            "MSE after optimization:  5.8918914794921875\n",
            "cashed quant Inputfeatures.11.conv.1.0\n",
            "\n",
            "Optimize 31:features.11.conv.1.0 for 32 bit of shape torch.Size([384, 1, 3, 3])\n"
          ]
        },
        {
          "name": "stderr",
          "output_type": "stream",
          "text": [
            "100%|██████████| 100/100 [00:00<00:00, 106.84it/s]\n"
          ]
        },
        {
          "name": "stdout",
          "output_type": "stream",
          "text": [
            "\n",
            "MSE before optimization: 0.03936275839805603\n",
            "MSE after optimization:  0.03669930249452591\n",
            "cashed quant Inputfeatures.11.conv.2\n",
            "\n",
            "Optimize 32:features.11.conv.2 for 32 bit of shape torch.Size([96, 384, 1, 1])\n"
          ]
        },
        {
          "name": "stderr",
          "output_type": "stream",
          "text": [
            "100%|██████████| 100/100 [00:00<00:00, 146.05it/s]\n"
          ]
        },
        {
          "name": "stdout",
          "output_type": "stream",
          "text": [
            "\n",
            "MSE before optimization: 0.9255399703979492\n",
            "MSE after optimization:  0.8953966498374939\n",
            "cashed quant Inputfeatures.12.conv.0.0\n",
            "\n",
            "Optimize 33:features.12.conv.0.0 for 32 bit of shape torch.Size([576, 96, 1, 1])\n"
          ]
        },
        {
          "name": "stderr",
          "output_type": "stream",
          "text": [
            "100%|██████████| 100/100 [00:00<00:00, 152.13it/s]\n"
          ]
        },
        {
          "name": "stdout",
          "output_type": "stream",
          "text": [
            "\n",
            "MSE before optimization: 0.13717329502105713\n",
            "MSE after optimization:  0.13590744137763977\n",
            "cashed quant Inputfeatures.12.conv.1.0\n",
            "\n",
            "Optimize 34:features.12.conv.1.0 for 32 bit of shape torch.Size([576, 1, 3, 3])\n"
          ]
        },
        {
          "name": "stderr",
          "output_type": "stream",
          "text": [
            "100%|██████████| 100/100 [00:01<00:00, 81.92it/s]\n"
          ]
        },
        {
          "name": "stdout",
          "output_type": "stream",
          "text": [
            "\n",
            "MSE before optimization: 0.0007359327864833176\n",
            "MSE after optimization:  0.0004976856289431453\n",
            "cashed quant Inputfeatures.12.conv.2\n",
            "\n",
            "Optimize 35:features.12.conv.2 for 32 bit of shape torch.Size([96, 576, 1, 1])\n"
          ]
        },
        {
          "name": "stderr",
          "output_type": "stream",
          "text": [
            "100%|██████████| 100/100 [00:00<00:00, 133.45it/s]\n"
          ]
        },
        {
          "name": "stdout",
          "output_type": "stream",
          "text": [
            "\n",
            "MSE before optimization: 0.09676280617713928\n",
            "MSE after optimization:  0.06833505630493164\n",
            "cashed quant Inputfeatures.13.conv.0.0\n",
            "\n",
            "Optimize 36:features.13.conv.0.0 for 32 bit of shape torch.Size([576, 96, 1, 1])\n"
          ]
        },
        {
          "name": "stderr",
          "output_type": "stream",
          "text": [
            "100%|██████████| 100/100 [00:00<00:00, 146.81it/s]\n"
          ]
        },
        {
          "name": "stdout",
          "output_type": "stream",
          "text": [
            "\n",
            "MSE before optimization: 0.15985387563705444\n",
            "MSE after optimization:  0.15783198177814484\n",
            "cashed quant Inputfeatures.13.conv.1.0\n",
            "\n",
            "Optimize 37:features.13.conv.1.0 for 32 bit of shape torch.Size([576, 1, 3, 3])\n"
          ]
        },
        {
          "name": "stderr",
          "output_type": "stream",
          "text": [
            "100%|██████████| 100/100 [00:01<00:00, 83.14it/s]\n"
          ]
        },
        {
          "name": "stdout",
          "output_type": "stream",
          "text": [
            "\n",
            "MSE before optimization: 0.0006164041114971042\n",
            "MSE after optimization:  0.00041172068449668586\n",
            "cashed quant Inputfeatures.13.conv.2\n",
            "\n",
            "Optimize 38:features.13.conv.2 for 32 bit of shape torch.Size([96, 576, 1, 1])\n"
          ]
        },
        {
          "name": "stderr",
          "output_type": "stream",
          "text": [
            "100%|██████████| 100/100 [00:00<00:00, 130.76it/s]\n"
          ]
        },
        {
          "name": "stdout",
          "output_type": "stream",
          "text": [
            "\n",
            "MSE before optimization: 0.05939161777496338\n",
            "MSE after optimization:  0.028730392456054688\n",
            "cashed quant Inputfeatures.14.conv.0.0\n",
            "\n",
            "Optimize 39:features.14.conv.0.0 for 32 bit of shape torch.Size([576, 96, 1, 1])\n"
          ]
        },
        {
          "name": "stderr",
          "output_type": "stream",
          "text": [
            "100%|██████████| 100/100 [00:00<00:00, 143.79it/s]\n"
          ]
        },
        {
          "name": "stdout",
          "output_type": "stream",
          "text": [
            "\n",
            "MSE before optimization: 0.26181623339653015\n",
            "MSE after optimization:  0.2572261095046997\n",
            "cashed quant Inputfeatures.14.conv.1.0\n",
            "\n",
            "Optimize 40:features.14.conv.1.0 for 32 bit of shape torch.Size([576, 1, 3, 3])\n"
          ]
        },
        {
          "name": "stderr",
          "output_type": "stream",
          "text": [
            "100%|██████████| 100/100 [00:01<00:00, 84.34it/s]\n"
          ]
        },
        {
          "name": "stdout",
          "output_type": "stream",
          "text": [
            "\n",
            "MSE before optimization: 0.0032891484443098307\n",
            "MSE after optimization:  0.0005165392067283392\n",
            "cashed quant Inputfeatures.14.conv.2\n",
            "\n",
            "Optimize 41:features.14.conv.2 for 32 bit of shape torch.Size([160, 576, 1, 1])\n"
          ]
        },
        {
          "name": "stderr",
          "output_type": "stream",
          "text": [
            "100%|██████████| 100/100 [00:00<00:00, 140.56it/s]\n"
          ]
        },
        {
          "name": "stdout",
          "output_type": "stream",
          "text": [
            "\n",
            "MSE before optimization: 0.1627979725599289\n",
            "MSE after optimization:  0.1593029946088791\n",
            "cashed quant Inputfeatures.15.conv.0.0\n",
            "\n",
            "Optimize 42:features.15.conv.0.0 for 32 bit of shape torch.Size([960, 160, 1, 1])\n"
          ]
        },
        {
          "name": "stderr",
          "output_type": "stream",
          "text": [
            "100%|██████████| 100/100 [00:00<00:00, 124.51it/s]\n"
          ]
        },
        {
          "name": "stdout",
          "output_type": "stream",
          "text": [
            "\n",
            "MSE before optimization: 0.8194661736488342\n",
            "MSE after optimization:  0.7743307948112488\n",
            "cashed quant Inputfeatures.15.conv.1.0\n",
            "\n",
            "Optimize 43:features.15.conv.1.0 for 32 bit of shape torch.Size([960, 1, 3, 3])\n"
          ]
        },
        {
          "name": "stderr",
          "output_type": "stream",
          "text": [
            "100%|██████████| 100/100 [00:01<00:00, 64.46it/s]\n"
          ]
        },
        {
          "name": "stdout",
          "output_type": "stream",
          "text": [
            "\n",
            "MSE before optimization: 0.001909618848003447\n",
            "MSE after optimization:  0.0017647634958848357\n",
            "cashed quant Inputfeatures.15.conv.2\n",
            "\n",
            "Optimize 44:features.15.conv.2 for 32 bit of shape torch.Size([160, 960, 1, 1])\n"
          ]
        },
        {
          "name": "stderr",
          "output_type": "stream",
          "text": [
            "100%|██████████| 100/100 [00:00<00:00, 120.93it/s]\n"
          ]
        },
        {
          "name": "stdout",
          "output_type": "stream",
          "text": [
            "\n",
            "MSE before optimization: 0.05288492143154144\n",
            "MSE after optimization:  0.029153455048799515\n",
            "cashed quant Inputfeatures.16.conv.0.0\n",
            "\n",
            "Optimize 45:features.16.conv.0.0 for 32 bit of shape torch.Size([960, 160, 1, 1])\n"
          ]
        },
        {
          "name": "stderr",
          "output_type": "stream",
          "text": [
            "100%|██████████| 100/100 [00:00<00:00, 123.17it/s]\n"
          ]
        },
        {
          "name": "stdout",
          "output_type": "stream",
          "text": [
            "\n",
            "MSE before optimization: 8.237093925476074\n",
            "MSE after optimization:  4.799966335296631\n",
            "cashed quant Inputfeatures.16.conv.1.0\n",
            "\n",
            "Optimize 46:features.16.conv.1.0 for 32 bit of shape torch.Size([960, 1, 3, 3])\n"
          ]
        },
        {
          "name": "stderr",
          "output_type": "stream",
          "text": [
            "100%|██████████| 100/100 [00:01<00:00, 67.34it/s]\n"
          ]
        },
        {
          "name": "stdout",
          "output_type": "stream",
          "text": [
            "\n",
            "MSE before optimization: 0.003334117354825139\n",
            "MSE after optimization:  0.0016097081825137138\n",
            "cashed quant Inputfeatures.16.conv.2\n",
            "\n",
            "Optimize 47:features.16.conv.2 for 32 bit of shape torch.Size([160, 960, 1, 1])\n"
          ]
        },
        {
          "name": "stderr",
          "output_type": "stream",
          "text": [
            "100%|██████████| 100/100 [00:00<00:00, 120.82it/s]\n"
          ]
        },
        {
          "name": "stdout",
          "output_type": "stream",
          "text": [
            "\n",
            "MSE before optimization: 1.3435715436935425\n",
            "MSE after optimization:  0.5269020199775696\n",
            "cashed quant Inputfeatures.17.conv.0.0\n",
            "\n",
            "Optimize 48:features.17.conv.0.0 for 32 bit of shape torch.Size([960, 160, 1, 1])\n"
          ]
        },
        {
          "name": "stderr",
          "output_type": "stream",
          "text": [
            "100%|██████████| 100/100 [00:00<00:00, 124.01it/s]\n"
          ]
        },
        {
          "name": "stdout",
          "output_type": "stream",
          "text": [
            "\n",
            "MSE before optimization: 133.89215087890625\n",
            "MSE after optimization:  105.00110626220703\n",
            "cashed quant Inputfeatures.17.conv.1.0\n",
            "\n",
            "Optimize 49:features.17.conv.1.0 for 32 bit of shape torch.Size([960, 1, 3, 3])\n"
          ]
        },
        {
          "name": "stderr",
          "output_type": "stream",
          "text": [
            "100%|██████████| 100/100 [00:01<00:00, 66.88it/s]\n"
          ]
        },
        {
          "name": "stdout",
          "output_type": "stream",
          "text": [
            "\n",
            "MSE before optimization: 0.005365094635635614\n",
            "MSE after optimization:  0.0016107341507449746\n",
            "cashed quant Inputfeatures.17.conv.2\n",
            "\n",
            "Optimize 50:features.17.conv.2 for 32 bit of shape torch.Size([320, 960, 1, 1])\n"
          ]
        },
        {
          "name": "stderr",
          "output_type": "stream",
          "text": [
            "100%|██████████| 100/100 [00:01<00:00, 56.63it/s]\n"
          ]
        },
        {
          "name": "stdout",
          "output_type": "stream",
          "text": [
            "\n",
            "MSE before optimization: 1.0935533046722412\n",
            "MSE after optimization:  0.529356062412262\n",
            "cashed quant Inputfeatures.18.0\n",
            "\n",
            "Optimize 51:features.18.0 for 32 bit of shape torch.Size([1280, 320, 1, 1])\n"
          ]
        },
        {
          "name": "stderr",
          "output_type": "stream",
          "text": [
            "100%|██████████| 100/100 [00:02<00:00, 48.80it/s]\n"
          ]
        },
        {
          "name": "stdout",
          "output_type": "stream",
          "text": [
            "\n",
            "MSE before optimization: 10.549941062927246\n",
            "MSE after optimization:  10.134812355041504\n",
            "cashed quant Inputclassifier.1\n",
            "\n",
            "Optimize 52:classifier.1 for 32 bit of shape torch.Size([10, 1280])\n"
          ]
        },
        {
          "name": "stderr",
          "output_type": "stream",
          "text": [
            "100%|██████████| 100/100 [00:00<00:00, 185.94it/s]\n"
          ]
        },
        {
          "name": "stdout",
          "output_type": "stream",
          "text": [
            "\n",
            "MSE before optimization: 3355.57470703125\n",
            "MSE after optimization:  3075.38037109375\n",
            "Calibration accuracy after quantization for 32 bits 10.01001001001001.\n",
            "Train accuracy after quantization for 32 bits 9.721944388877777.\n"
          ]
        }
      ],
      "source": [
        "bits=[8,16,32]\n",
        "\n",
        "for bit in bits:\n",
        "    acc = -1\n",
        "    loss = -1\n",
        "    best_prec1 = 0\n",
        "    dtype = torch.float32\n",
        "\n",
        "\n",
        "    #Load dataset\n",
        "    cal_dataloader, train_dataloader, val_dataloader=load_dataset(\n",
        "        './data/calibration',\n",
        "        './data/calibration_labels.csv',\n",
        "        './data/cifar-10/train',\n",
        "        './data/cifar-10/trainLabels.csv'\n",
        "        )\n",
        "    \n",
        "    #load model\n",
        "    model = MobileNetV2(num_bits=bit, num_bits_weight=bit)\n",
        "    model.load_state_dict(torch.load('models/mobilenet1.pt'))\n",
        "    criterion = CrossEntropyLoss()\n",
        "    optimizer = SGD(model.parameters(), lr=1e-2, momentum=0.5, weight_decay=0)\n",
        "    trainer = Trainer(model, criterion, optimizer, device=torch.device(\"cpu\"))\n",
        "\n",
        "    cal_acc_before=val_loop(cal_dataloader, model, 'cpu')\n",
        "    val_acc_before=val_loop(val_dataloader, model, 'cpu')\n",
        "    print(f\"Calibration accuracy before quantization for {bit} bits {cal_acc_before}.\")\n",
        "    print(f\"Validation accuracy before quantization for {bit} bits {val_acc_before}.\")\n",
        "\n",
        "    #save accuracy\n",
        "    with open(f\"./output_adaquant/acc_before_{bit}.txt\", 'w') as f:\n",
        "        f.write(\"Calibration \")\n",
        "        f.write(str(cal_acc_before))\n",
        "        f.write(\"Validation \")\n",
        "        f.write(str(val_acc_before))\n",
        "\n",
        "    cached_qinput = {}\n",
        "\n",
        "    #prepare for quantization\n",
        "    def Qhook(name, module, input, output):\n",
        "        if module not in cached_qinput:\n",
        "            cached_qinput[module] = []\n",
        "            # Meanwhile store data in the RAM.\n",
        "            cached_qinput[module].append(input[0].detach().cpu())\n",
        "\n",
        "    cached_input_output = {}\n",
        "\n",
        "\n",
        "    def hook(name, module, input, output):\n",
        "        if module not in cached_input_output:\n",
        "            cached_input_output[module] = []\n",
        "        # Meanwhile store data in the RAM.\n",
        "        cached_input_output[module].append((input[0].detach().cpu(), output.detach().cpu()))\n",
        "        \n",
        "    for name, m in model.named_modules():\n",
        "        if isinstance(m, QConv2d) or isinstance(m, QLinear):\n",
        "            m.name = name\n",
        "\n",
        "    handlers = []\n",
        "    count = 0\n",
        "    for name, m in model.named_modules():\n",
        "        if isinstance(m, QConv2d) or isinstance(m, QLinear):\n",
        "            m.quantize = False\n",
        "            handlers.append(m.register_forward_hook(partial(hook, name)))\n",
        "            count += 1\n",
        "\n",
        "    trainer.validate(val_dataloader)\n",
        "\n",
        "    for handler in handlers:\n",
        "        handler.remove()\n",
        "\n",
        "    for m in model.modules():\n",
        "        if isinstance(m, QConv2d) or isinstance(m, QLinear):\n",
        "            m.quantize = True\n",
        "\n",
        "    mse_df = pd.DataFrame(\n",
        "        index=np.arange(len(cached_input_output)),\n",
        "        columns=[\"name\", \"bit\", \"shape\", \"mse_before\", \"mse_after\", \"acc\"],\n",
        "    )\n",
        "    print_freq = 100\n",
        "    evaluate = \"./output_adaquant/evaluate\"\n",
        "\n",
        "    #run quantization\n",
        "    for i, layer in enumerate(cached_input_output):\n",
        "        if i > 0: \n",
        "            count = 0\n",
        "            cached_qinput = {}\n",
        "            for name, m in model.named_modules():\n",
        "                if layer.name == name:\n",
        "                    if count < 5:\n",
        "                        handler = m.register_forward_hook(partial(Qhook, name))\n",
        "                        count += 1\n",
        "            # Store input/output for all quantizable layers\n",
        "            trainer.validate(cal_dataloader)\n",
        "            print(\"cashed quant Input%s\" % layer.name)\n",
        "            cached_input_output[layer][0] = (\n",
        "                cached_qinput[layer][0],\n",
        "                cached_input_output[layer][0][1],\n",
        "            )\n",
        "            handler.remove()\n",
        "        print(\n",
        "            \"\\nOptimize {}:{} for {} bit of shape {}\".format(\n",
        "                i, layer.name, layer.num_bits, layer.weight.shape\n",
        "            )\n",
        "        )\n",
        "\n",
        "        mse_before, mse_after = optimize_layer_adaquant(layer, cached_input_output[layer])\n",
        "        acc=val_loop(val_dataloader, model, 'cpu')\n",
        "\n",
        "        print(\"\\nMSE before optimization: {}\".format(mse_before))\n",
        "        print(\"MSE after optimization:  {}\".format(mse_after))\n",
        "        mse_df.loc[i, \"name\"] = layer.name\n",
        "        mse_df.loc[i, \"bit\"] = layer.num_bits\n",
        "        mse_df.loc[i, \"shape\"] = str(layer.weight.shape)\n",
        "        mse_df.loc[i, \"mse_before\"] = mse_before\n",
        "        mse_df.loc[i, \"mse_after\"] = mse_after\n",
        "        mse_df.loc[i, \"acc\"] = acc\n",
        "\n",
        "    #save the results and model\n",
        "    mse_csv = evaluate + f\"_mse_{bit}.csv\"\n",
        "    mse_df.to_csv(mse_csv)\n",
        "\n",
        "    filename = evaluate + f\"_adaquant_{bit}.pth\"\n",
        "    torch.save(model.state_dict(), filename)\n",
        "\n",
        "    cal_acc_after=val_loop(cal_dataloader, model, 'cpu')\n",
        "    val_acc_after=val_loop(val_dataloader, model, 'cpu')\n",
        "    print(f\"Calibration accuracy after quantization for {bit} bits {cal_acc_after}.\")\n",
        "    print(f\"Validation accuracy after quantization for {bit} bits {val_acc_after}.\")\n",
        "\n",
        "    #save accuracy\n",
        "    with open(f\"./output_adaquant/acc_after_{bit}.txt\", 'w') as f:\n",
        "        f.write(\"Calibration \")\n",
        "        f.write(str(cal_acc_after))\n",
        "        f.write(\"Validation \")\n",
        "        f.write(str(val_acc_after))"
      ]
    }
  ],
  "metadata": {
    "accelerator": "GPU",
    "colab": {
      "gpuType": "T4",
      "include_colab_link": true,
      "machine_shape": "hm",
      "provenance": []
    },
    "kernelspec": {
      "display_name": "Python 3",
      "name": "python3"
    },
    "language_info": {
      "codemirror_mode": {
        "name": "ipython",
        "version": 3
      },
      "file_extension": ".py",
      "mimetype": "text/x-python",
      "name": "python",
      "nbconvert_exporter": "python",
      "pygments_lexer": "ipython3",
      "version": "3.9.13"
    },
    "orig_nbformat": 4
  },
  "nbformat": 4,
  "nbformat_minor": 0
}
