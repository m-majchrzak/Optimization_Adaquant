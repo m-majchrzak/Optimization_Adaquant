{
 "cells": [
  {
   "attachments": {},
   "cell_type": "markdown",
   "metadata": {},
   "source": [
    "## Libraries & Setup"
   ]
  },
  {
   "cell_type": "code",
   "execution_count": 5,
   "metadata": {},
   "outputs": [],
   "source": [
    "import torch.nn as nn\n",
    "import torch.nn.parallel\n",
    "import torch.backends.cudnn as cudnn\n",
    "import torch.optim\n",
    "import torch.utils.data\n",
    "#import models\n",
    "import torch.distributed as dist\n",
    "#from data import DataRegime\n",
    "#from utils.log import setup_logging, ResultsLog\n",
    "#from utils.optim import OptimRegime\n",
    "#from utils.cross_entropy import CrossEntropyLoss\n",
    "from torch.nn import CrossEntropyLoss \n",
    "from torch.optim import Adam\n",
    "#from utils.misc import torch_dtypes\n",
    "#from utils.param_filter import FilterModules, is_bn\n",
    "#from utils.convert_pytcv_model import convert_pytcv_model\n",
    "from datetime import datetime\n",
    "from ast import literal_eval\n",
    "#from trainer import Trainer\n",
    "from utils.adaquant import optimize_layer_adaquant\n",
    "import numpy as np\n",
    "import pandas as pd\n",
    "import ast\n",
    "from functools import partial\n",
    "import random\n",
    "import os\n",
    "from utils.quantize import QConv2d, QLinear"
   ]
  },
  {
   "cell_type": "code",
   "execution_count": 2,
   "metadata": {},
   "outputs": [],
   "source": [
    "torch_dtypes = {\n",
    "    'float': torch.float,\n",
    "    'float32': torch.float32,\n",
    "    'float64': torch.float64,\n",
    "    'double': torch.double,\n",
    "    'float16': torch.float16,\n",
    "    'half': torch.half,\n",
    "    'uint8': torch.uint8,\n",
    "    'int8': torch.int8,\n",
    "    'int16': torch.int16,\n",
    "    'short': torch.short,\n",
    "    'int32': torch.int32,\n",
    "    'int': torch.int,\n",
    "    'int64': torch.int64,\n",
    "    'long': torch.long\n",
    "}"
   ]
  },
  {
   "cell_type": "code",
   "execution_count": 3,
   "metadata": {},
   "outputs": [],
   "source": [
    "acc = -1\n",
    "loss = -1\n",
    "best_prec1 = 0\n",
    "dtype = torch.float32\n",
    "### SET SEED\n",
    "seed = 123\n",
    "random.seed(seed)\n",
    "np.random.seed(seed)\n",
    "torch.manual_seed(seed)\n",
    "\n",
    "### LOGGING\n",
    "#setup_logging(os.path.join(save_path, 'log.txt'),\n",
    "#                  resume=args.resume is not '',\n",
    "#                  dummy=args.distributed and args.local_rank > 0)\n",
    "#results_path = os.path.join(save_path, 'results')\n",
    "#results = ResultsLog(\n",
    "#        results_path, title='Training Results - %s' % args.save)\n",
    "#logging.info(\"saving to %s\", save_path)\n",
    "#logging.debug(\"run arguments: %s\", args)\n",
    "#logging.info(\"creating model %s\", args.model)\n",
    "\n",
    "device_ids = list(range(torch.cuda.device_count()))\n",
    "if torch.cuda.is_available():\n",
    "    torch.cuda.manual_seed_all(seed)\n",
    "    torch.cuda.set_device(device_ids[0])\n",
    "    cudnn.benchmark = True\n",
    "else:\n",
    "    device_ids = None"
   ]
  },
  {
   "attachments": {},
   "cell_type": "markdown",
   "metadata": {},
   "source": [
    "## Model, Optimizer, Trainer"
   ]
  },
  {
   "cell_type": "code",
   "execution_count": null,
   "metadata": {},
   "outputs": [],
   "source": [
    "### CREATE MODEL\n",
    "model = #?\n",
    "dataset_type = 'imagenet' \n",
    "model_config = {'dataset': dataset_type}\n",
    "\n",
    "# define loss function (criterion) and optimizer\n",
    "criterion = CrossEntropyLoss()\n",
    "\n",
    "# optimizer configuration\n",
    "optimizer = getattr(model, 'regime', [{'epoch': 0,\n",
    "                                          'optimizer': Adam() ,\n",
    "                                          'lr': ,#args.lr,\n",
    "                                          'momentum': ,#args.momentum,\n",
    "                                          'weight_decay':  #args.weight_decay\n",
    "                                          }])\n",
    "\n",
    "# Training Data loading code\n",
    "train_data = # ? DataRegime\n",
    "\n",
    "prunner = None \n",
    "\n",
    "# TRAINER?\n",
    "#trainer = Trainer(model,prunner, criterion, optimizer,\n",
    "#                      device_ids=args.device_ids, device=args.device, dtype=dtype,\n",
    "#                      distributed=args.distributed, local_rank=args.local_rank, mixup=args.mixup, loss_scale=args.loss_scale,\n",
    "#                      grad_clip=args.grad_clip, print_freq=args.print_freq, adapt_grad_norm=args.adapt_grad_norm,epoch=args.start_epoch,update_only_th=args.update_only_th,optimize_rounding=args.optimize_rounding)\n",
    "\n",
    "    \n",
    "# Evaluation Data loading code\n",
    "eval_batch_size = # ?   \n",
    "dataset_type = 'imagenet' \n",
    "val_data =  # ?DataRegime"
   ]
  },
  {
   "attachments": {},
   "cell_type": "markdown",
   "metadata": {},
   "source": [
    "## Cache, Hook"
   ]
  },
  {
   "cell_type": "code",
   "execution_count": null,
   "metadata": {},
   "outputs": [],
   "source": [
    "cached_input_output = {}\n",
    "quant_keys = ['.weight', '.bias', '.equ_scale', '.quantize_input.running_zero_point', '.quantize_input.running_range',\n",
    "         '.quantize_weight.running_zero_point', '.quantize_weight.running_range','.quantize_input1.running_zero_point', '.quantize_input1.running_range'\n",
    "         '.quantize_input2.running_zero_point', '.quantize_input2.running_range'] \n",
    "def Qhook(name, module, input, output):\n",
    "    cached_qinput = {}\n",
    "    cached_qinput[module] = []\n",
    "    # Meanwhile store data in the RAM.\n",
    "    cached_qinput[module].append(input[0].detach().cpu())\n",
    "    # print(name)\n",
    "\n",
    "def hook(name,module, input, output):\n",
    "    if module not in cached_input_output:\n",
    "        cached_input_output[module] = []\n",
    "    # Meanwhile store data in the RAM.\n",
    "    cached_input_output[module].append((input[0].detach().cpu(), output.detach().cpu()))\n",
    "    # print(name)"
   ]
  },
  {
   "cell_type": "code",
   "execution_count": null,
   "metadata": {},
   "outputs": [],
   "source": [
    "\n",
    "handlers = []\n",
    "count = 0\n",
    "for name, m in model.named_modules():\n",
    "    if isinstance(m, QConv2d) or isinstance(m, QLinear):\n",
    "    #if isinstance(m, QConv2d) or isinstance(m, QLinear):\n",
    "    # if isinstance(m, QConv2d):\n",
    "        m.quantize = False\n",
    "        if count < 1000:\n",
    "        # if (isinstance(m, QConv2d) and m.groups == 1) or isinstance(m, QLinear):\n",
    "            handlers.append(m.register_forward_hook(partial(hook,name)))\n",
    "            count += 1\n",
    "\n",
    "# Store input/output for all quantizable layers\n",
    "trainer.validate(train_data.get_loader())\n",
    "print(\"Input/outputs cached\")\n",
    "\n",
    "for handler in handlers:\n",
    "    handler.remove()\n",
    "\n",
    "for m in model.modules():\n",
    "    if isinstance(m, QConv2d) or isinstance(m, QLinear):\n",
    "        m.quantize = True\n"
   ]
  },
  {
   "attachments": {},
   "cell_type": "markdown",
   "metadata": {},
   "source": [
    "## Loop Through Layers"
   ]
  },
  {
   "cell_type": "code",
   "execution_count": null,
   "metadata": {},
   "outputs": [],
   "source": [
    "mse_df = pd.DataFrame(index=np.arange(len(cached_input_output)), columns=['name', 'bit', 'shape', 'mse_before', 'mse_after'])\n",
    "print_freq = 100\n",
    "evaluate = \"evaluate\""
   ]
  },
  {
   "cell_type": "code",
   "execution_count": null,
   "metadata": {},
   "outputs": [],
   "source": [
    "for i, layer in enumerate(cached_input_output):\n",
    "    if i>0: # and seq_adaquant = True\n",
    "        count = 0\n",
    "        cached_qinput = {}\n",
    "        for name, m in model.named_modules():\n",
    "            if layer.name==name:\n",
    "                if count < 1000:\n",
    "                    handler= m.register_forward_hook(partial(Qhook,name))\n",
    "                    count += 1\n",
    "        # Store input/output for all quantizable layers\n",
    "        trainer.validate(train_data.get_loader())\n",
    "        print(\"cashed quant Input%s\"%layer.name)\n",
    "        cached_input_output[layer][0] = (cached_qinput[layer][0],cached_input_output[layer][0][1])\n",
    "        handler.remove()            \n",
    "    print(\"\\nOptimize {}:{} for {} bit of shape {}\".format(i, layer.name, layer.num_bits, layer.weight.shape))\n",
    "\n",
    "    mse_before, mse_after = optimize_layer_adaquant(layer, cached_input_output[layer])\n",
    "    \n",
    "    print(\"\\nMSE before optimization: {}\".format(mse_before))\n",
    "    print(\"MSE after optimization:  {}\".format(mse_after))\n",
    "    mse_df.loc[i, 'name'] = layer.name\n",
    "    mse_df.loc[i, 'bit'] = layer.num_bits\n",
    "    mse_df.loc[i, 'shape'] = str(layer.weight.shape)\n",
    "    mse_df.loc[i, 'mse_before'] = mse_before\n",
    "    mse_df.loc[i, 'mse_after'] = mse_after\n",
    "\n",
    "\n",
    "mse_csv = evaluate + '.mse.csv'\n",
    "mse_df.to_csv(mse_csv)\n",
    "\n",
    "filename = evaluate + '.adaquant'\n",
    "torch.save(model.state_dict(), filename)\n",
    "\n",
    "train_data = None\n",
    "cached_input_output = None\n",
    "val_results = trainer.validate(val_data.get_loader())\n",
    "#logging.info(val_results)"
   ]
  }
 ],
 "metadata": {
  "kernelspec": {
   "display_name": "Python 3",
   "language": "python",
   "name": "python3"
  },
  "language_info": {
   "codemirror_mode": {
    "name": "ipython",
    "version": 3
   },
   "file_extension": ".py",
   "mimetype": "text/x-python",
   "name": "python",
   "nbconvert_exporter": "python",
   "pygments_lexer": "ipython3",
   "version": "3.9.0"
  },
  "orig_nbformat": 4
 },
 "nbformat": 4,
 "nbformat_minor": 2
}
