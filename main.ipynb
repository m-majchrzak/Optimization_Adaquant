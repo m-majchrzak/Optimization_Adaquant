{
 "cells": [
  {
   "attachments": {},
   "cell_type": "markdown",
   "metadata": {},
   "source": [
    "## Libraries & Setup"
   ]
  },
  {
   "cell_type": "code",
   "execution_count": 36,
   "metadata": {},
   "outputs": [],
   "source": [
    "import torch.nn as nn\n",
    "import torch.nn.parallel\n",
    "import torch.backends.cudnn as cudnn\n",
    "import torch.optim\n",
    "import torch.utils.data\n",
    "#import models\n",
    "import torch.distributed as dist\n",
    "#from data import DataRegime\n",
    "#from utils.log import setup_logging, ResultsLog\n",
    "#from utils.optim import OptimRegime\n",
    "#from utils.cross_entropy import CrossEntropyLoss\n",
    "from torch.nn import CrossEntropyLoss \n",
    "from torch.optim import Adam\n",
    "from utils.misc import torch_dtypes\n",
    "#from utils.param_filter import FilterModules, is_bn\n",
    "#from utils.convert_pytcv_model import convert_pytcv_model\n",
    "from datetime import datetime\n",
    "from ast import literal_eval\n",
    "from utils.trainer import Trainer\n",
    "from utils.adaquant import optimize_layer_adaquant\n",
    "import numpy as np\n",
    "import pandas as pd\n",
    "import ast\n",
    "from functools import partial\n",
    "import random\n",
    "import os\n",
    "from utils.quantize import QConv2d, QLinear\n",
    "from torch.nn import Conv2d, Linear\n",
    "from utils.load_dataset import load_dataset, create_calibration_dataset\n",
    "import torchvision.models as models\n",
    "from models.resnet import ResNet_imagenet"
   ]
  },
  {
   "cell_type": "code",
   "execution_count": 25,
   "metadata": {},
   "outputs": [],
   "source": [
    "acc = -1\n",
    "loss = -1\n",
    "best_prec1 = 0\n",
    "dtype = torch.float32\n",
    "### SET SEED\n",
    "seed = 123\n",
    "random.seed(seed)\n",
    "np.random.seed(seed)\n",
    "torch.manual_seed(seed)\n",
    "\n",
    "### LOGGING\n",
    "#setup_logging(os.path.join(save_path, 'log.txt'),\n",
    "#                  resume=args.resume is not '',\n",
    "#                  dummy=args.distributed and args.local_rank > 0)\n",
    "#results_path = os.path.join(save_path, 'results')\n",
    "#results = ResultsLog(\n",
    "#        results_path, title='Training Results - %s' % args.save)\n",
    "#logging.info(\"saving to %s\", save_path)\n",
    "#logging.debug(\"run arguments: %s\", args)\n",
    "#logging.info(\"creating model %s\", args.model)\n",
    "\n",
    "device_ids = list(range(torch.cuda.device_count()))\n",
    "if torch.cuda.is_available():\n",
    "    torch.cuda.manual_seed_all(seed)\n",
    "    torch.cuda.set_device(device_ids[0])\n",
    "    cudnn.benchmark = True\n",
    "else:\n",
    "    device_ids = None"
   ]
  },
  {
   "attachments": {},
   "cell_type": "markdown",
   "metadata": {},
   "source": [
    "## Data"
   ]
  },
  {
   "cell_type": "code",
   "execution_count": 26,
   "metadata": {},
   "outputs": [],
   "source": [
    "path_to_dataset='./kaggle_tiny_imagenet/tiny-imagenet-200/dataset_tiny_imagenet'\n",
    "#which_dataset = '/train' #'/val' #'/test'\n",
    "train_directory = path_to_dataset + '/train'\n",
    "val_directory = path_to_dataset + '/val'\n",
    "test_directory = path_to_dataset + '/test'"
   ]
  },
  {
   "cell_type": "code",
   "execution_count": 27,
   "metadata": {},
   "outputs": [],
   "source": [
    "# Training Data loading code\n",
    "train_batch_size = 400\n",
    "train_data = load_dataset(train_directory, train_batch_size)\n",
    "   \n",
    "# Evaluation Data loading code\n",
    "val_batch_size = 128\n",
    "val_data =  load_dataset(val_directory, val_batch_size)\n",
    "\n",
    "# Test Data loading code\n",
    "test_batch_size = 128\n",
    "test_data =  load_dataset(test_directory, val_batch_size)"
   ]
  },
  {
   "cell_type": "code",
   "execution_count": 28,
   "metadata": {},
   "outputs": [],
   "source": [
    "calib_data = create_calibration_dataset(train_directory) "
   ]
  },
  {
   "cell_type": "code",
   "execution_count": 48,
   "metadata": {},
   "outputs": [
    {
     "ename": "TypeError",
     "evalue": "'NoneType' object is not iterable",
     "output_type": "error",
     "traceback": [
      "\u001b[1;31m---------------------------------------------------------------------------\u001b[0m",
      "\u001b[1;31mTypeError\u001b[0m                                 Traceback (most recent call last)",
      "Cell \u001b[1;32mIn[48], line 1\u001b[0m\n\u001b[1;32m----> 1\u001b[0m \u001b[39mfor\u001b[39;00m i, (inputs, target) \u001b[39min\u001b[39;00m (\u001b[39menumerate\u001b[39;49m(calib_data)):\n\u001b[0;32m      2\u001b[0m     \u001b[39mprint\u001b[39m([target\u001b[39m.\u001b[39mshape])\n",
      "\u001b[1;31mTypeError\u001b[0m: 'NoneType' object is not iterable"
     ]
    }
   ],
   "source": [
    "for i, (inputs, target) in (enumerate(calib_data)):\n",
    "    print([target.shape])"
   ]
  },
  {
   "attachments": {},
   "cell_type": "markdown",
   "metadata": {},
   "source": [
    "## Model, Optimizer, Trainer"
   ]
  },
  {
   "cell_type": "code",
   "execution_count": 37,
   "metadata": {},
   "outputs": [],
   "source": [
    "### CREATE MODEL\n",
    "#model = models.resnet18(pretrained=True)\n",
    "model = ResNet_imagenet()\n",
    "\n",
    "# define loss function (criterion) and optimizer\n",
    "criterion = CrossEntropyLoss()\n",
    "\n",
    "# optimizer configuration\n",
    "optimizer = getattr(model, 'regime', [{'epoch': 0,\n",
    "                                          'optimizer': Adam(model.parameters()) , # params??\n",
    "                                          'lr':  1e-2,\n",
    "                                          'momentum': 0.5,#args.momentum,\n",
    "                                          'weight_decay': 0 #args.weight_decay\n",
    "                                          }])\n",
    "\n",
    "prunner = None \n"
   ]
  },
  {
   "cell_type": "code",
   "execution_count": 38,
   "metadata": {},
   "outputs": [],
   "source": [
    "# TRAINER?\n",
    "trainer = Trainer(model, prunner, criterion, optimizer, device=torch.device('cpu'))"
   ]
  },
  {
   "attachments": {},
   "cell_type": "markdown",
   "metadata": {},
   "source": [
    "## Cache, Hook"
   ]
  },
  {
   "cell_type": "code",
   "execution_count": 39,
   "metadata": {},
   "outputs": [],
   "source": [
    "cached_input_output = {}\n",
    "quant_keys = ['.weight', '.bias', '.equ_scale', '.quantize_input.running_zero_point', '.quantize_input.running_range',\n",
    "         '.quantize_weight.running_zero_point', '.quantize_weight.running_range','.quantize_input1.running_zero_point', '.quantize_input1.running_range'\n",
    "         '.quantize_input2.running_zero_point', '.quantize_input2.running_range'] \n",
    "\n",
    "def Qhook(name, module, input, output):\n",
    "    if module not in cached_qinput:\n",
    "        cached_qinput[module] = []\n",
    "        # Meanwhile store data in the RAM.\n",
    "        cached_qinput[module].append(input[0].detach().cpu())\n",
    "        # print(name)\n",
    "\n",
    "def hook(name,module, input, output):\n",
    "    if module not in cached_input_output:\n",
    "        cached_input_output[module] = []\n",
    "    # Meanwhile store data in the RAM.\n",
    "    cached_input_output[module].append((input[0].detach().cpu(), output.detach().cpu()))\n",
    "    # print(name)"
   ]
  },
  {
   "cell_type": "code",
   "execution_count": 41,
   "metadata": {},
   "outputs": [
    {
     "name": "stdout",
     "output_type": "stream",
     "text": [
      "conv1\n",
      "layer1.0.conv1\n",
      "layer1.0.conv2\n",
      "layer1.0.conv3\n",
      "layer1.0.downsample.0\n",
      "layer1.1.conv1\n",
      "layer1.1.conv2\n",
      "layer1.1.conv3\n",
      "layer1.2.conv1\n",
      "layer1.2.conv2\n",
      "layer1.2.conv3\n",
      "layer2.0.conv1\n",
      "layer2.0.conv2\n",
      "layer2.0.conv3\n",
      "layer2.0.downsample.0\n",
      "layer2.1.conv1\n",
      "layer2.1.conv2\n",
      "layer2.1.conv3\n",
      "layer2.2.conv1\n",
      "layer2.2.conv2\n",
      "layer2.2.conv3\n",
      "layer2.3.conv1\n",
      "layer2.3.conv2\n",
      "layer2.3.conv3\n",
      "layer3.0.conv1\n",
      "layer3.0.conv2\n",
      "layer3.0.conv3\n",
      "layer3.0.downsample.0\n",
      "layer3.1.conv1\n",
      "layer3.1.conv2\n",
      "layer3.1.conv3\n",
      "layer3.2.conv1\n",
      "layer3.2.conv2\n",
      "layer3.2.conv3\n",
      "layer3.3.conv1\n",
      "layer3.3.conv2\n",
      "layer3.3.conv3\n",
      "layer3.4.conv1\n",
      "layer3.4.conv2\n",
      "layer3.4.conv3\n",
      "layer3.5.conv1\n",
      "layer3.5.conv2\n",
      "layer3.5.conv3\n",
      "layer3.6.conv1\n",
      "layer3.6.conv2\n",
      "layer3.6.conv3\n",
      "layer3.7.conv1\n",
      "layer3.7.conv2\n",
      "layer3.7.conv3\n",
      "layer3.8.conv1\n",
      "layer3.8.conv2\n",
      "layer3.8.conv3\n",
      "layer3.9.conv1\n",
      "layer3.9.conv2\n",
      "layer3.9.conv3\n",
      "layer3.10.conv1\n",
      "layer3.10.conv2\n",
      "layer3.10.conv3\n",
      "layer3.11.conv1\n",
      "layer3.11.conv2\n",
      "layer3.11.conv3\n",
      "layer3.12.conv1\n",
      "layer3.12.conv2\n",
      "layer3.12.conv3\n",
      "layer3.13.conv1\n",
      "layer3.13.conv2\n",
      "layer3.13.conv3\n",
      "layer3.14.conv1\n",
      "layer3.14.conv2\n",
      "layer3.14.conv3\n",
      "layer3.15.conv1\n",
      "layer3.15.conv2\n",
      "layer3.15.conv3\n",
      "layer3.16.conv1\n",
      "layer3.16.conv2\n",
      "layer3.16.conv3\n",
      "layer3.17.conv1\n",
      "layer3.17.conv2\n",
      "layer3.17.conv3\n",
      "layer3.18.conv1\n",
      "layer3.18.conv2\n",
      "layer3.18.conv3\n",
      "layer3.19.conv1\n",
      "layer3.19.conv2\n",
      "layer3.19.conv3\n",
      "layer3.20.conv1\n",
      "layer3.20.conv2\n",
      "layer3.20.conv3\n",
      "layer3.21.conv1\n",
      "layer3.21.conv2\n",
      "layer3.21.conv3\n",
      "layer3.22.conv1\n",
      "layer3.22.conv2\n",
      "layer3.22.conv3\n",
      "layer4.0.conv1\n",
      "layer4.0.conv2\n",
      "layer4.0.conv3\n",
      "layer4.0.downsample.0\n",
      "layer4.1.conv1\n",
      "layer4.1.conv2\n",
      "layer4.1.conv3\n",
      "layer4.2.conv1\n",
      "layer4.2.conv2\n",
      "layer4.2.conv3\n",
      "fc\n"
     ]
    }
   ],
   "source": [
    "for name, m in model.named_modules():\n",
    "    if isinstance(m, Conv2d) or isinstance(m, Linear):\n",
    "        print(name)"
   ]
  },
  {
   "cell_type": "code",
   "execution_count": 42,
   "metadata": {},
   "outputs": [
    {
     "name": "stdout",
     "output_type": "stream",
     "text": [
      "Output shape: torch.Size([400, 1000]), Target shape: torch.Size([400])\n",
      "Input/outputs cached\n"
     ]
    }
   ],
   "source": [
    "\n",
    "handlers = []\n",
    "count = 0\n",
    "for name, m in model.named_modules():\n",
    "    if isinstance(m, QConv2d) or isinstance(m, QLinear):\n",
    "    #if isinstance(m, Conv2d) or isinstance(m, Linear):\n",
    "    # if isinstance(m, QConv2d):\n",
    "        m.quantize = False\n",
    "        if count < 1000:\n",
    "        # if (isinstance(m, QConv2d) and m.groups == 1) or isinstance(m, QLinear):\n",
    "            handlers.append(m.register_forward_hook(partial(hook,name)))\n",
    "            count += 1\n",
    "\n",
    "# Store input/output for all quantizable layers\n",
    "trainer.validate(train_data) \n",
    "print(\"Input/outputs cached\")\n",
    "\n",
    "for handler in handlers:\n",
    "    handler.remove()\n",
    "\n",
    "for m in model.modules():\n",
    "    if isinstance(m, QConv2d) or isinstance(m, QLinear):\n",
    "        m.quantize = True\n"
   ]
  },
  {
   "cell_type": "code",
   "execution_count": 47,
   "metadata": {},
   "outputs": [
    {
     "name": "stdout",
     "output_type": "stream",
     "text": [
      "None\n"
     ]
    }
   ],
   "source": [
    "print(cached_input_output)"
   ]
  },
  {
   "attachments": {},
   "cell_type": "markdown",
   "metadata": {},
   "source": [
    "## Loop Through Layers"
   ]
  },
  {
   "cell_type": "code",
   "execution_count": 43,
   "metadata": {},
   "outputs": [],
   "source": [
    "mse_df = pd.DataFrame(index=np.arange(len(cached_input_output)), columns=['name', 'bit', 'shape', 'mse_before', 'mse_after'])\n",
    "print_freq = 100\n",
    "evaluate = \"evaluate\""
   ]
  },
  {
   "cell_type": "code",
   "execution_count": 45,
   "metadata": {},
   "outputs": [
    {
     "ename": "TypeError",
     "evalue": "'NoneType' object is not iterable",
     "output_type": "error",
     "traceback": [
      "\u001b[1;31m---------------------------------------------------------------------------\u001b[0m",
      "\u001b[1;31mTypeError\u001b[0m                                 Traceback (most recent call last)",
      "Cell \u001b[1;32mIn[45], line 1\u001b[0m\n\u001b[1;32m----> 1\u001b[0m \u001b[39mfor\u001b[39;00m i, layer \u001b[39min\u001b[39;00m \u001b[39menumerate\u001b[39;49m(cached_input_output):\n\u001b[0;32m      2\u001b[0m     \u001b[39mif\u001b[39;00m i\u001b[39m>\u001b[39m\u001b[39m0\u001b[39m: \u001b[39m# and seq_adaquant = True\u001b[39;00m\n\u001b[0;32m      3\u001b[0m         count \u001b[39m=\u001b[39m \u001b[39m0\u001b[39m\n",
      "\u001b[1;31mTypeError\u001b[0m: 'NoneType' object is not iterable"
     ]
    }
   ],
   "source": [
    "for i, layer in enumerate(cached_input_output):\n",
    "    if i>0: # and seq_adaquant = True\n",
    "        count = 0\n",
    "        cached_qinput = {}\n",
    "        for name, m in model.named_modules():\n",
    "            if layer.name==name:\n",
    "                if count < 1000:\n",
    "                    handler= m.register_forward_hook(partial(Qhook,name))\n",
    "                    count += 1\n",
    "        # Store input/output for all quantizable layers\n",
    "        trainer.validate(train_data)\n",
    "        print(\"cashed quant Input%s\"%layer.name)\n",
    "        cached_input_output[layer][0] = (cached_qinput[layer][0],cached_input_output[layer][0][1])\n",
    "        handler.remove()            \n",
    "    print(\"\\nOptimize {}:{} for {} bit of shape {}\".format(i, layer.name, layer.num_bits, layer.weight.shape))\n",
    "\n",
    "    mse_before, mse_after = optimize_layer_adaquant(layer, cached_input_output[layer])\n",
    "    \n",
    "    print(\"\\nMSE before optimization: {}\".format(mse_before))\n",
    "    print(\"MSE after optimization:  {}\".format(mse_after))\n",
    "    mse_df.loc[i, 'name'] = layer.name\n",
    "    mse_df.loc[i, 'bit'] = layer.num_bits\n",
    "    mse_df.loc[i, 'shape'] = str(layer.weight.shape)\n",
    "    mse_df.loc[i, 'mse_before'] = mse_before\n",
    "    mse_df.loc[i, 'mse_after'] = mse_after\n",
    "\n",
    "\n",
    "mse_csv = evaluate + '.mse.csv'\n",
    "mse_df.to_csv(mse_csv)\n",
    "\n",
    "filename = evaluate + '.adaquant'\n",
    "torch.save(model.state_dict(), filename)\n",
    "\n",
    "train_data = None\n",
    "cached_input_output = None\n",
    "val_results = trainer.validate(val_data.get_loader())\n",
    "#logging.info(val_results)"
   ]
  }
 ],
 "metadata": {
  "kernelspec": {
   "display_name": "Python 3",
   "language": "python",
   "name": "python3"
  },
  "language_info": {
   "codemirror_mode": {
    "name": "ipython",
    "version": 3
   },
   "file_extension": ".py",
   "mimetype": "text/x-python",
   "name": "python",
   "nbconvert_exporter": "python",
   "pygments_lexer": "ipython3",
   "version": "3.9.0"
  },
  "orig_nbformat": 4
 },
 "nbformat": 4,
 "nbformat_minor": 2
}
