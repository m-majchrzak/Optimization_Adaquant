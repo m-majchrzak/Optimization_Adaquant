{
  "cells": [
    {
      "attachments": {},
      "cell_type": "markdown",
      "metadata": {
        "id": "cyu_LNHkLcuQ"
      },
      "source": [
        "## Libraries & Setup"
      ]
    },
    {
      "attachments": {},
      "cell_type": "markdown",
      "metadata": {},
      "source": [
        "### Setup"
      ]
    },
    {
      "cell_type": "code",
      "execution_count": 1,
      "metadata": {
        "id": "LWJOoH8xLcuU"
      },
      "outputs": [],
      "source": [
        "from functools import partial\n",
        "\n",
        "import numpy as np\n",
        "import pandas as pd\n",
        "import torch.nn.parallel\n",
        "\n",
        "from torch.nn import CrossEntropyLoss\n",
        "from torch.optim import SGD\n",
        "\n",
        "from utils.adaquant import optimize_layer_adaquant\n",
        "from utils.load_dataset import load_dataset\n",
        "from utils.utils_functions import val_loop, set_seeds\n",
        "from utils.mobilenet_v2 import MobileNetV2\n",
        "from utils.quantize import QConv2d, QLinear\n",
        "from utils.trainer import Trainer\n",
        "set_seeds()"
      ]
    },
    {
      "cell_type": "code",
      "execution_count": 2,
      "metadata": {
        "id": "nsPl6gZlLcuW"
      },
      "outputs": [],
      "source": [
        "acc = -1\n",
        "loss = -1\n",
        "best_prec1 = 0\n",
        "dtype = torch.float32"
      ]
    },
    {
      "attachments": {},
      "cell_type": "markdown",
      "metadata": {
        "id": "sjIYB-L8LcuX"
      },
      "source": [
        "## Load dataset"
      ]
    },
    {
      "cell_type": "code",
      "execution_count": 3,
      "metadata": {},
      "outputs": [],
      "source": [
        "cal_dataloader, train_dataloader, val_dataloader=load_dataset(\n",
        "'./data/calibration',\n",
        "'./data/calibration_labels.csv',\n",
        "'./data/cifar-10/train',\n",
        "'./data/cifar-10/trainLabels.csv'\n",
        ")"
      ]
    },
    {
      "attachments": {},
      "cell_type": "markdown",
      "metadata": {
        "id": "WyZ0-rUnLcua"
      },
      "source": [
        "## Model, Optimizer, Trainer"
      ]
    },
    {
      "cell_type": "code",
      "execution_count": 4,
      "metadata": {},
      "outputs": [
        {
          "data": {
            "text/plain": [
              "44.04404404404404"
            ]
          },
          "execution_count": 4,
          "metadata": {},
          "output_type": "execute_result"
        }
      ],
      "source": [
        "model = MobileNetV2(num_bits=8, num_bits_weight=8)\n",
        "model.load_state_dict(torch.load('models/mobilenet1.pt'))\n",
        "criterion = CrossEntropyLoss()\n",
        "optimizer = SGD(model.parameters(), lr=1e-2, momentum=0.5, weight_decay=0)\n",
        "trainer = Trainer(model, criterion, optimizer, device=torch.device(\"cpu\"))\n",
        "\n",
        "val_loop(cal_dataloader, model, 'cpu')"
      ]
    },
    {
      "attachments": {},
      "cell_type": "markdown",
      "metadata": {
        "id": "y1QO1EtnLcuc"
      },
      "source": [
        "## Prepare for quantization"
      ]
    },
    {
      "cell_type": "code",
      "execution_count": 5,
      "metadata": {
        "id": "llDYo3MNLcuc"
      },
      "outputs": [],
      "source": [
        "cached_qinput = {}\n",
        "\n",
        "def Qhook(name, module, input, output):\n",
        "    if module not in cached_qinput:\n",
        "        cached_qinput[module] = []\n",
        "        cached_qinput[module].append(input[0].detach().cpu())"
      ]
    },
    {
      "cell_type": "code",
      "execution_count": 6,
      "metadata": {
        "id": "_y_PDu3wLcud"
      },
      "outputs": [],
      "source": [
        "cached_input_output = {}\n",
        "\n",
        "def hook(name, module, input, output):\n",
        "    if module not in cached_input_output:\n",
        "        cached_input_output[module] = []\n",
        "    cached_input_output[module].append((input[0].detach().cpu(), output.detach().cpu()))"
      ]
    },
    {
      "cell_type": "code",
      "execution_count": 7,
      "metadata": {
        "colab": {
          "base_uri": "https://localhost:8080/"
        },
        "id": "Kl8zpIswLcud",
        "outputId": "c7025283-f196-4233-ac6a-f7c338988bb6"
      },
      "outputs": [
        {
          "name": "stdout",
          "output_type": "stream",
          "text": [
            "features.0.0\n",
            "features.1.conv.0.0\n",
            "features.1.conv.1\n",
            "features.2.conv.0.0\n",
            "features.2.conv.1.0\n",
            "features.2.conv.2\n",
            "features.3.conv.0.0\n",
            "features.3.conv.1.0\n",
            "features.3.conv.2\n",
            "features.4.conv.0.0\n",
            "features.4.conv.1.0\n",
            "features.4.conv.2\n",
            "features.5.conv.0.0\n",
            "features.5.conv.1.0\n",
            "features.5.conv.2\n",
            "features.6.conv.0.0\n",
            "features.6.conv.1.0\n",
            "features.6.conv.2\n",
            "features.7.conv.0.0\n",
            "features.7.conv.1.0\n",
            "features.7.conv.2\n",
            "features.8.conv.0.0\n",
            "features.8.conv.1.0\n",
            "features.8.conv.2\n",
            "features.9.conv.0.0\n",
            "features.9.conv.1.0\n",
            "features.9.conv.2\n",
            "features.10.conv.0.0\n",
            "features.10.conv.1.0\n",
            "features.10.conv.2\n",
            "features.11.conv.0.0\n",
            "features.11.conv.1.0\n",
            "features.11.conv.2\n",
            "features.12.conv.0.0\n",
            "features.12.conv.1.0\n",
            "features.12.conv.2\n",
            "features.13.conv.0.0\n",
            "features.13.conv.1.0\n",
            "features.13.conv.2\n",
            "features.14.conv.0.0\n",
            "features.14.conv.1.0\n",
            "features.14.conv.2\n",
            "features.15.conv.0.0\n",
            "features.15.conv.1.0\n",
            "features.15.conv.2\n",
            "features.16.conv.0.0\n",
            "features.16.conv.1.0\n",
            "features.16.conv.2\n",
            "features.17.conv.0.0\n",
            "features.17.conv.1.0\n",
            "features.17.conv.2\n",
            "features.18.0\n",
            "classifier.1\n"
          ]
        }
      ],
      "source": [
        "for name, m in model.named_modules():\n",
        "    if isinstance(m, QConv2d) or isinstance(m, QLinear):\n",
        "        print(name)\n",
        "        m.name = name"
      ]
    },
    {
      "cell_type": "code",
      "execution_count": 8,
      "metadata": {
        "id": "jQIYG_5dLcue"
      },
      "outputs": [],
      "source": [
        "handlers = []\n",
        "count = 0\n",
        "for name, m in model.named_modules():\n",
        "    if isinstance(m, QConv2d) or isinstance(m, QLinear):\n",
        "        m.quantize = False\n",
        "        handlers.append(m.register_forward_hook(partial(hook, name)))\n",
        "        count += 1"
      ]
    },
    {
      "cell_type": "code",
      "execution_count": 9,
      "metadata": {
        "colab": {
          "base_uri": "https://localhost:8080/"
        },
        "id": "7GrF88RKLcuf",
        "outputId": "9c35c806-25f9-44c2-c0a0-8ea580087aab"
      },
      "outputs": [
        {
          "name": "stdout",
          "output_type": "stream",
          "text": [
            "Input/outputs cached\n"
          ]
        }
      ],
      "source": [
        "# Store input/output for all quantizable layers\n",
        "trainer.validate(val_dataloader)\n",
        "print(\"Input/outputs cached\")"
      ]
    },
    {
      "cell_type": "code",
      "execution_count": 10,
      "metadata": {
        "id": "7FUABnD0Lcug"
      },
      "outputs": [],
      "source": [
        "for handler in handlers:\n",
        "    handler.remove()\n",
        "\n",
        "for m in model.modules():\n",
        "    if isinstance(m, QConv2d) or isinstance(m, QLinear):\n",
        "        m.quantize = True"
      ]
    },
    {
      "attachments": {},
      "cell_type": "markdown",
      "metadata": {
        "id": "3FiBDSMdLcuh"
      },
      "source": [
        "## Loop through layers - run qunatization"
      ]
    },
    {
      "cell_type": "code",
      "execution_count": 11,
      "metadata": {
        "id": "AjR0_09hLcuh"
      },
      "outputs": [],
      "source": [
        "mse_df = pd.DataFrame(\n",
        "    index=np.arange(len(cached_input_output)),\n",
        "    columns=[\"name\", \"bit\", \"shape\", \"mse_before\", \"mse_after\", \"acc\"],\n",
        ")\n",
        "print_freq = 100\n",
        "evaluate = \"evaluate\""
      ]
    },
    {
      "cell_type": "code",
      "execution_count": 12,
      "metadata": {
        "colab": {
          "base_uri": "https://localhost:8080/"
        },
        "id": "wAz_Jm_aLcuh",
        "outputId": "cf98c0e9-31bc-4e01-bf1c-91c2b446cb63"
      },
      "outputs": [
        {
          "name": "stdout",
          "output_type": "stream",
          "text": [
            "\n",
            "Optimize 0:features.0.0 for 8 bit of shape torch.Size([32, 3, 3, 3])\n"
          ]
        },
        {
          "name": "stderr",
          "output_type": "stream",
          "text": [
            "100%|██████████| 100/100 [00:01<00:00, 87.14it/s]\n"
          ]
        },
        {
          "name": "stdout",
          "output_type": "stream",
          "text": [
            "\n",
            "MSE before optimization: 0.2940675616264343\n",
            "MSE after optimization:  0.03231118991971016\n",
            "cashed quant Inputfeatures.1.conv.0.0\n",
            "\n",
            "Optimize 1:features.1.conv.0.0 for 8 bit of shape torch.Size([32, 1, 3, 3])\n"
          ]
        },
        {
          "name": "stderr",
          "output_type": "stream",
          "text": [
            "100%|██████████| 100/100 [00:02<00:00, 43.87it/s]\n"
          ]
        },
        {
          "name": "stdout",
          "output_type": "stream",
          "text": [
            "\n",
            "MSE before optimization: 0.002355064731091261\n",
            "MSE after optimization:  0.00234135240316391\n",
            "cashed quant Inputfeatures.1.conv.1\n",
            "\n",
            "Optimize 2:features.1.conv.1 for 8 bit of shape torch.Size([16, 32, 1, 1])\n"
          ]
        },
        {
          "name": "stderr",
          "output_type": "stream",
          "text": [
            "100%|██████████| 100/100 [00:01<00:00, 60.00it/s]\n"
          ]
        },
        {
          "name": "stdout",
          "output_type": "stream",
          "text": [
            "\n",
            "MSE before optimization: 0.003050582716241479\n",
            "MSE after optimization:  0.0029362684581428766\n",
            "cashed quant Inputfeatures.2.conv.0.0\n",
            "\n",
            "Optimize 3:features.2.conv.0.0 for 8 bit of shape torch.Size([96, 16, 1, 1])\n"
          ]
        },
        {
          "name": "stderr",
          "output_type": "stream",
          "text": [
            "100%|██████████| 100/100 [00:01<00:00, 52.72it/s]\n"
          ]
        },
        {
          "name": "stdout",
          "output_type": "stream",
          "text": [
            "\n",
            "MSE before optimization: 0.05361859127879143\n",
            "MSE after optimization:  0.05361330136656761\n",
            "cashed quant Inputfeatures.2.conv.1.0\n",
            "\n",
            "Optimize 4:features.2.conv.1.0 for 8 bit of shape torch.Size([96, 1, 3, 3])\n"
          ]
        },
        {
          "name": "stderr",
          "output_type": "stream",
          "text": [
            "100%|██████████| 100/100 [00:04<00:00, 24.46it/s]\n"
          ]
        },
        {
          "name": "stdout",
          "output_type": "stream",
          "text": [
            "\n",
            "MSE before optimization: 0.045015767216682434\n",
            "MSE after optimization:  0.0361471064388752\n",
            "cashed quant Inputfeatures.2.conv.2\n",
            "\n",
            "Optimize 5:features.2.conv.2 for 8 bit of shape torch.Size([24, 96, 1, 1])\n"
          ]
        },
        {
          "name": "stderr",
          "output_type": "stream",
          "text": [
            "100%|██████████| 100/100 [00:01<00:00, 68.90it/s]\n"
          ]
        },
        {
          "name": "stdout",
          "output_type": "stream",
          "text": [
            "\n",
            "MSE before optimization: 0.08585748076438904\n",
            "MSE after optimization:  0.08518283814191818\n",
            "cashed quant Inputfeatures.3.conv.0.0\n",
            "\n",
            "Optimize 6:features.3.conv.0.0 for 8 bit of shape torch.Size([144, 24, 1, 1])\n"
          ]
        },
        {
          "name": "stderr",
          "output_type": "stream",
          "text": [
            "100%|██████████| 100/100 [00:00<00:00, 104.05it/s]\n"
          ]
        },
        {
          "name": "stdout",
          "output_type": "stream",
          "text": [
            "\n",
            "MSE before optimization: 0.08344480395317078\n",
            "MSE after optimization:  0.07618572562932968\n",
            "cashed quant Inputfeatures.3.conv.1.0\n",
            "\n",
            "Optimize 7:features.3.conv.1.0 for 8 bit of shape torch.Size([144, 1, 3, 3])\n"
          ]
        },
        {
          "name": "stderr",
          "output_type": "stream",
          "text": [
            "100%|██████████| 100/100 [00:02<00:00, 45.69it/s]\n"
          ]
        },
        {
          "name": "stdout",
          "output_type": "stream",
          "text": [
            "\n",
            "MSE before optimization: 0.00898977741599083\n",
            "MSE after optimization:  0.002702984493225813\n",
            "cashed quant Inputfeatures.3.conv.2\n",
            "\n",
            "Optimize 8:features.3.conv.2 for 8 bit of shape torch.Size([24, 144, 1, 1])\n"
          ]
        },
        {
          "name": "stderr",
          "output_type": "stream",
          "text": [
            "100%|██████████| 100/100 [00:01<00:00, 54.63it/s]\n"
          ]
        },
        {
          "name": "stdout",
          "output_type": "stream",
          "text": [
            "\n",
            "MSE before optimization: 0.019225656986236572\n",
            "MSE after optimization:  0.016296228393912315\n",
            "cashed quant Inputfeatures.4.conv.0.0\n",
            "\n",
            "Optimize 9:features.4.conv.0.0 for 8 bit of shape torch.Size([144, 24, 1, 1])\n"
          ]
        },
        {
          "name": "stderr",
          "output_type": "stream",
          "text": [
            "100%|██████████| 100/100 [00:00<00:00, 104.08it/s]\n"
          ]
        },
        {
          "name": "stdout",
          "output_type": "stream",
          "text": [
            "\n",
            "MSE before optimization: 0.2163679599761963\n",
            "MSE after optimization:  0.1883907914161682\n",
            "cashed quant Inputfeatures.4.conv.1.0\n",
            "\n",
            "Optimize 10:features.4.conv.1.0 for 8 bit of shape torch.Size([144, 1, 3, 3])\n"
          ]
        },
        {
          "name": "stderr",
          "output_type": "stream",
          "text": [
            "100%|██████████| 100/100 [00:01<00:00, 56.63it/s]\n"
          ]
        },
        {
          "name": "stdout",
          "output_type": "stream",
          "text": [
            "\n",
            "MSE before optimization: 0.09327231347560883\n",
            "MSE after optimization:  0.01956268586218357\n",
            "cashed quant Inputfeatures.4.conv.2\n",
            "\n",
            "Optimize 11:features.4.conv.2 for 8 bit of shape torch.Size([32, 144, 1, 1])\n"
          ]
        },
        {
          "name": "stderr",
          "output_type": "stream",
          "text": [
            "100%|██████████| 100/100 [00:00<00:00, 175.47it/s]\n"
          ]
        },
        {
          "name": "stdout",
          "output_type": "stream",
          "text": [
            "\n",
            "MSE before optimization: 1.4994641542434692\n",
            "MSE after optimization:  1.3670309782028198\n",
            "cashed quant Inputfeatures.5.conv.0.0\n",
            "\n",
            "Optimize 12:features.5.conv.0.0 for 8 bit of shape torch.Size([192, 32, 1, 1])\n"
          ]
        },
        {
          "name": "stderr",
          "output_type": "stream",
          "text": [
            "100%|██████████| 100/100 [00:00<00:00, 201.01it/s]\n"
          ]
        },
        {
          "name": "stdout",
          "output_type": "stream",
          "text": [
            "\n",
            "MSE before optimization: 1.5233330726623535\n",
            "MSE after optimization:  1.3364012241363525\n",
            "cashed quant Inputfeatures.5.conv.1.0\n",
            "\n",
            "Optimize 13:features.5.conv.1.0 for 8 bit of shape torch.Size([192, 1, 3, 3])\n"
          ]
        },
        {
          "name": "stderr",
          "output_type": "stream",
          "text": [
            "100%|██████████| 100/100 [00:00<00:00, 152.88it/s]\n"
          ]
        },
        {
          "name": "stdout",
          "output_type": "stream",
          "text": [
            "\n",
            "MSE before optimization: 0.0440930612385273\n",
            "MSE after optimization:  0.040624555200338364\n",
            "cashed quant Inputfeatures.5.conv.2\n",
            "\n",
            "Optimize 14:features.5.conv.2 for 8 bit of shape torch.Size([32, 192, 1, 1])\n"
          ]
        },
        {
          "name": "stderr",
          "output_type": "stream",
          "text": [
            "100%|██████████| 100/100 [00:00<00:00, 161.91it/s]\n"
          ]
        },
        {
          "name": "stdout",
          "output_type": "stream",
          "text": [
            "\n",
            "MSE before optimization: 0.7615174651145935\n",
            "MSE after optimization:  0.6663913130760193\n",
            "cashed quant Inputfeatures.6.conv.0.0\n",
            "\n",
            "Optimize 15:features.6.conv.0.0 for 8 bit of shape torch.Size([192, 32, 1, 1])\n"
          ]
        },
        {
          "name": "stderr",
          "output_type": "stream",
          "text": [
            "100%|██████████| 100/100 [00:00<00:00, 197.92it/s]\n"
          ]
        },
        {
          "name": "stdout",
          "output_type": "stream",
          "text": [
            "\n",
            "MSE before optimization: 2.025031805038452\n",
            "MSE after optimization:  1.6768062114715576\n",
            "cashed quant Inputfeatures.6.conv.1.0\n",
            "\n",
            "Optimize 16:features.6.conv.1.0 for 8 bit of shape torch.Size([192, 1, 3, 3])\n"
          ]
        },
        {
          "name": "stderr",
          "output_type": "stream",
          "text": [
            "100%|██████████| 100/100 [00:00<00:00, 150.54it/s]\n"
          ]
        },
        {
          "name": "stdout",
          "output_type": "stream",
          "text": [
            "\n",
            "MSE before optimization: 0.03506797179579735\n",
            "MSE after optimization:  0.03471272438764572\n",
            "cashed quant Inputfeatures.6.conv.2\n",
            "\n",
            "Optimize 17:features.6.conv.2 for 8 bit of shape torch.Size([32, 192, 1, 1])\n"
          ]
        },
        {
          "name": "stderr",
          "output_type": "stream",
          "text": [
            "100%|██████████| 100/100 [00:00<00:00, 157.88it/s]\n"
          ]
        },
        {
          "name": "stdout",
          "output_type": "stream",
          "text": [
            "\n",
            "MSE before optimization: 0.3706902265548706\n",
            "MSE after optimization:  0.34559449553489685\n",
            "cashed quant Inputfeatures.7.conv.0.0\n",
            "\n",
            "Optimize 18:features.7.conv.0.0 for 8 bit of shape torch.Size([192, 32, 1, 1])\n"
          ]
        },
        {
          "name": "stderr",
          "output_type": "stream",
          "text": [
            "100%|██████████| 100/100 [00:00<00:00, 202.44it/s]\n"
          ]
        },
        {
          "name": "stdout",
          "output_type": "stream",
          "text": [
            "\n",
            "MSE before optimization: 2.4101109504699707\n",
            "MSE after optimization:  2.224879264831543\n",
            "cashed quant Inputfeatures.7.conv.1.0\n",
            "\n",
            "Optimize 19:features.7.conv.1.0 for 8 bit of shape torch.Size([192, 1, 3, 3])\n"
          ]
        },
        {
          "name": "stderr",
          "output_type": "stream",
          "text": [
            "100%|██████████| 100/100 [00:00<00:00, 153.19it/s]\n"
          ]
        },
        {
          "name": "stdout",
          "output_type": "stream",
          "text": [
            "\n",
            "MSE before optimization: 0.1415058672428131\n",
            "MSE after optimization:  0.07243413478136063\n",
            "cashed quant Inputfeatures.7.conv.2\n",
            "\n",
            "Optimize 20:features.7.conv.2 for 8 bit of shape torch.Size([64, 192, 1, 1])\n"
          ]
        },
        {
          "name": "stderr",
          "output_type": "stream",
          "text": [
            "100%|██████████| 100/100 [00:00<00:00, 200.05it/s]\n"
          ]
        },
        {
          "name": "stdout",
          "output_type": "stream",
          "text": [
            "\n",
            "MSE before optimization: 1.549709677696228\n",
            "MSE after optimization:  1.3535579442977905\n",
            "cashed quant Inputfeatures.8.conv.0.0\n",
            "\n",
            "Optimize 21:features.8.conv.0.0 for 8 bit of shape torch.Size([384, 64, 1, 1])\n"
          ]
        },
        {
          "name": "stderr",
          "output_type": "stream",
          "text": [
            "100%|██████████| 100/100 [00:00<00:00, 184.62it/s]\n"
          ]
        },
        {
          "name": "stdout",
          "output_type": "stream",
          "text": [
            "\n",
            "MSE before optimization: 2.2502737045288086\n",
            "MSE after optimization:  2.199319362640381\n",
            "cashed quant Inputfeatures.8.conv.1.0\n",
            "\n",
            "Optimize 22:features.8.conv.1.0 for 8 bit of shape torch.Size([384, 1, 3, 3])\n"
          ]
        },
        {
          "name": "stderr",
          "output_type": "stream",
          "text": [
            "100%|██████████| 100/100 [00:00<00:00, 103.74it/s]\n"
          ]
        },
        {
          "name": "stdout",
          "output_type": "stream",
          "text": [
            "\n",
            "MSE before optimization: 0.01570802927017212\n",
            "MSE after optimization:  0.013197551481425762\n",
            "cashed quant Inputfeatures.8.conv.2\n",
            "\n",
            "Optimize 23:features.8.conv.2 for 8 bit of shape torch.Size([64, 384, 1, 1])\n"
          ]
        },
        {
          "name": "stderr",
          "output_type": "stream",
          "text": [
            "100%|██████████| 100/100 [00:00<00:00, 162.62it/s]\n"
          ]
        },
        {
          "name": "stdout",
          "output_type": "stream",
          "text": [
            "\n",
            "MSE before optimization: 0.5048291087150574\n",
            "MSE after optimization:  0.4900008738040924\n",
            "cashed quant Inputfeatures.9.conv.0.0\n",
            "\n",
            "Optimize 24:features.9.conv.0.0 for 8 bit of shape torch.Size([384, 64, 1, 1])\n"
          ]
        },
        {
          "name": "stderr",
          "output_type": "stream",
          "text": [
            "100%|██████████| 100/100 [00:00<00:00, 190.28it/s]\n"
          ]
        },
        {
          "name": "stdout",
          "output_type": "stream",
          "text": [
            "\n",
            "MSE before optimization: 1.828735113143921\n",
            "MSE after optimization:  1.8266786336898804\n",
            "cashed quant Inputfeatures.9.conv.1.0\n",
            "\n",
            "Optimize 25:features.9.conv.1.0 for 8 bit of shape torch.Size([384, 1, 3, 3])\n"
          ]
        },
        {
          "name": "stderr",
          "output_type": "stream",
          "text": [
            "100%|██████████| 100/100 [00:01<00:00, 95.92it/s]\n"
          ]
        },
        {
          "name": "stdout",
          "output_type": "stream",
          "text": [
            "\n",
            "MSE before optimization: 0.0016530179418623447\n",
            "MSE after optimization:  0.0015722020762041211\n",
            "cashed quant Inputfeatures.9.conv.2\n",
            "\n",
            "Optimize 26:features.9.conv.2 for 8 bit of shape torch.Size([64, 384, 1, 1])\n"
          ]
        },
        {
          "name": "stderr",
          "output_type": "stream",
          "text": [
            "100%|██████████| 100/100 [00:00<00:00, 161.00it/s]\n"
          ]
        },
        {
          "name": "stdout",
          "output_type": "stream",
          "text": [
            "\n",
            "MSE before optimization: 0.040724463760852814\n",
            "MSE after optimization:  0.040046047419309616\n",
            "cashed quant Inputfeatures.10.conv.0.0\n",
            "\n",
            "Optimize 27:features.10.conv.0.0 for 8 bit of shape torch.Size([384, 64, 1, 1])\n"
          ]
        },
        {
          "name": "stderr",
          "output_type": "stream",
          "text": [
            "100%|██████████| 100/100 [00:00<00:00, 188.42it/s]\n"
          ]
        },
        {
          "name": "stdout",
          "output_type": "stream",
          "text": [
            "\n",
            "MSE before optimization: 0.8355658054351807\n",
            "MSE after optimization:  0.8292196393013\n",
            "cashed quant Inputfeatures.10.conv.1.0\n",
            "\n",
            "Optimize 28:features.10.conv.1.0 for 8 bit of shape torch.Size([384, 1, 3, 3])\n"
          ]
        },
        {
          "name": "stderr",
          "output_type": "stream",
          "text": [
            "100%|██████████| 100/100 [00:00<00:00, 104.96it/s]\n"
          ]
        },
        {
          "name": "stdout",
          "output_type": "stream",
          "text": [
            "\n",
            "MSE before optimization: 0.0014586912002414465\n",
            "MSE after optimization:  0.0012677176855504513\n",
            "cashed quant Inputfeatures.10.conv.2\n",
            "\n",
            "Optimize 29:features.10.conv.2 for 8 bit of shape torch.Size([64, 384, 1, 1])\n"
          ]
        },
        {
          "name": "stderr",
          "output_type": "stream",
          "text": [
            "100%|██████████| 100/100 [00:00<00:00, 160.79it/s]\n"
          ]
        },
        {
          "name": "stdout",
          "output_type": "stream",
          "text": [
            "\n",
            "MSE before optimization: 0.048190440982580185\n",
            "MSE after optimization:  0.031466081738471985\n",
            "cashed quant Inputfeatures.11.conv.0.0\n",
            "\n",
            "Optimize 30:features.11.conv.0.0 for 8 bit of shape torch.Size([384, 64, 1, 1])\n"
          ]
        },
        {
          "name": "stderr",
          "output_type": "stream",
          "text": [
            "100%|██████████| 100/100 [00:00<00:00, 170.55it/s]\n"
          ]
        },
        {
          "name": "stdout",
          "output_type": "stream",
          "text": [
            "\n",
            "MSE before optimization: 5.981011390686035\n",
            "MSE after optimization:  5.909394264221191\n",
            "cashed quant Inputfeatures.11.conv.1.0\n",
            "\n",
            "Optimize 31:features.11.conv.1.0 for 8 bit of shape torch.Size([384, 1, 3, 3])\n"
          ]
        },
        {
          "name": "stderr",
          "output_type": "stream",
          "text": [
            "100%|██████████| 100/100 [00:00<00:00, 105.56it/s]\n"
          ]
        },
        {
          "name": "stdout",
          "output_type": "stream",
          "text": [
            "\n",
            "MSE before optimization: 0.03958893567323685\n",
            "MSE after optimization:  0.036917828023433685\n",
            "cashed quant Inputfeatures.11.conv.2\n",
            "\n",
            "Optimize 32:features.11.conv.2 for 8 bit of shape torch.Size([96, 384, 1, 1])\n"
          ]
        },
        {
          "name": "stderr",
          "output_type": "stream",
          "text": [
            "100%|██████████| 100/100 [00:00<00:00, 152.72it/s]\n"
          ]
        },
        {
          "name": "stdout",
          "output_type": "stream",
          "text": [
            "\n",
            "MSE before optimization: 0.9285637140274048\n",
            "MSE after optimization:  0.8980165719985962\n",
            "cashed quant Inputfeatures.12.conv.0.0\n",
            "\n",
            "Optimize 33:features.12.conv.0.0 for 8 bit of shape torch.Size([576, 96, 1, 1])\n"
          ]
        },
        {
          "name": "stderr",
          "output_type": "stream",
          "text": [
            "100%|██████████| 100/100 [00:00<00:00, 149.94it/s]\n"
          ]
        },
        {
          "name": "stdout",
          "output_type": "stream",
          "text": [
            "\n",
            "MSE before optimization: 0.13901114463806152\n",
            "MSE after optimization:  0.13779087364673615\n",
            "cashed quant Inputfeatures.12.conv.1.0\n",
            "\n",
            "Optimize 34:features.12.conv.1.0 for 8 bit of shape torch.Size([576, 1, 3, 3])\n"
          ]
        },
        {
          "name": "stderr",
          "output_type": "stream",
          "text": [
            "100%|██████████| 100/100 [00:01<00:00, 79.88it/s]\n"
          ]
        },
        {
          "name": "stdout",
          "output_type": "stream",
          "text": [
            "\n",
            "MSE before optimization: 0.0007512808660976589\n",
            "MSE after optimization:  0.0005068076425231993\n",
            "cashed quant Inputfeatures.12.conv.2\n",
            "\n",
            "Optimize 35:features.12.conv.2 for 8 bit of shape torch.Size([96, 576, 1, 1])\n"
          ]
        },
        {
          "name": "stderr",
          "output_type": "stream",
          "text": [
            "100%|██████████| 100/100 [00:00<00:00, 128.46it/s]\n"
          ]
        },
        {
          "name": "stdout",
          "output_type": "stream",
          "text": [
            "\n",
            "MSE before optimization: 0.09863002598285675\n",
            "MSE after optimization:  0.07016261667013168\n",
            "cashed quant Inputfeatures.13.conv.0.0\n",
            "\n",
            "Optimize 36:features.13.conv.0.0 for 8 bit of shape torch.Size([576, 96, 1, 1])\n"
          ]
        },
        {
          "name": "stderr",
          "output_type": "stream",
          "text": [
            "100%|██████████| 100/100 [00:00<00:00, 140.12it/s]\n"
          ]
        },
        {
          "name": "stdout",
          "output_type": "stream",
          "text": [
            "\n",
            "MSE before optimization: 0.1611613929271698\n",
            "MSE after optimization:  0.15906818211078644\n",
            "cashed quant Inputfeatures.13.conv.1.0\n",
            "\n",
            "Optimize 37:features.13.conv.1.0 for 8 bit of shape torch.Size([576, 1, 3, 3])\n"
          ]
        },
        {
          "name": "stderr",
          "output_type": "stream",
          "text": [
            "100%|██████████| 100/100 [00:01<00:00, 79.62it/s]\n"
          ]
        },
        {
          "name": "stdout",
          "output_type": "stream",
          "text": [
            "\n",
            "MSE before optimization: 0.0006240135990083218\n",
            "MSE after optimization:  0.0004206638259347528\n",
            "cashed quant Inputfeatures.13.conv.2\n",
            "\n",
            "Optimize 38:features.13.conv.2 for 8 bit of shape torch.Size([96, 576, 1, 1])\n"
          ]
        },
        {
          "name": "stderr",
          "output_type": "stream",
          "text": [
            "100%|██████████| 100/100 [00:00<00:00, 130.11it/s]\n"
          ]
        },
        {
          "name": "stdout",
          "output_type": "stream",
          "text": [
            "\n",
            "MSE before optimization: 0.05925614759325981\n",
            "MSE after optimization:  0.028244568035006523\n",
            "cashed quant Inputfeatures.14.conv.0.0\n",
            "\n",
            "Optimize 39:features.14.conv.0.0 for 8 bit of shape torch.Size([576, 96, 1, 1])\n"
          ]
        },
        {
          "name": "stderr",
          "output_type": "stream",
          "text": [
            "100%|██████████| 100/100 [00:00<00:00, 151.38it/s]\n"
          ]
        },
        {
          "name": "stdout",
          "output_type": "stream",
          "text": [
            "\n",
            "MSE before optimization: 0.2645561099052429\n",
            "MSE after optimization:  0.26002272963523865\n",
            "cashed quant Inputfeatures.14.conv.1.0\n",
            "\n",
            "Optimize 40:features.14.conv.1.0 for 8 bit of shape torch.Size([576, 1, 3, 3])\n"
          ]
        },
        {
          "name": "stderr",
          "output_type": "stream",
          "text": [
            "100%|██████████| 100/100 [00:01<00:00, 84.48it/s]\n"
          ]
        },
        {
          "name": "stdout",
          "output_type": "stream",
          "text": [
            "\n",
            "MSE before optimization: 0.003313385881483555\n",
            "MSE after optimization:  0.00039144637412391603\n",
            "cashed quant Inputfeatures.14.conv.2\n",
            "\n",
            "Optimize 41:features.14.conv.2 for 8 bit of shape torch.Size([160, 576, 1, 1])\n"
          ]
        },
        {
          "name": "stderr",
          "output_type": "stream",
          "text": [
            "100%|██████████| 100/100 [00:00<00:00, 131.26it/s]\n"
          ]
        },
        {
          "name": "stdout",
          "output_type": "stream",
          "text": [
            "\n",
            "MSE before optimization: 0.16470959782600403\n",
            "MSE after optimization:  0.16192737221717834\n",
            "cashed quant Inputfeatures.15.conv.0.0\n",
            "\n",
            "Optimize 42:features.15.conv.0.0 for 8 bit of shape torch.Size([960, 160, 1, 1])\n"
          ]
        },
        {
          "name": "stderr",
          "output_type": "stream",
          "text": [
            "100%|██████████| 100/100 [00:00<00:00, 120.04it/s]\n"
          ]
        },
        {
          "name": "stdout",
          "output_type": "stream",
          "text": [
            "\n",
            "MSE before optimization: 0.8386932611465454\n",
            "MSE after optimization:  0.7928159236907959\n",
            "cashed quant Inputfeatures.15.conv.1.0\n",
            "\n",
            "Optimize 43:features.15.conv.1.0 for 8 bit of shape torch.Size([960, 1, 3, 3])\n"
          ]
        },
        {
          "name": "stderr",
          "output_type": "stream",
          "text": [
            "100%|██████████| 100/100 [00:01<00:00, 65.72it/s]\n"
          ]
        },
        {
          "name": "stdout",
          "output_type": "stream",
          "text": [
            "\n",
            "MSE before optimization: 0.0019710054621100426\n",
            "MSE after optimization:  0.0018117798026651144\n",
            "cashed quant Inputfeatures.15.conv.2\n",
            "\n",
            "Optimize 44:features.15.conv.2 for 8 bit of shape torch.Size([160, 960, 1, 1])\n"
          ]
        },
        {
          "name": "stderr",
          "output_type": "stream",
          "text": [
            "100%|██████████| 100/100 [00:00<00:00, 115.38it/s]\n"
          ]
        },
        {
          "name": "stdout",
          "output_type": "stream",
          "text": [
            "\n",
            "MSE before optimization: 0.05379612743854523\n",
            "MSE after optimization:  0.030546288937330246\n",
            "cashed quant Inputfeatures.16.conv.0.0\n",
            "\n",
            "Optimize 45:features.16.conv.0.0 for 8 bit of shape torch.Size([960, 160, 1, 1])\n"
          ]
        },
        {
          "name": "stderr",
          "output_type": "stream",
          "text": [
            "100%|██████████| 100/100 [00:00<00:00, 126.35it/s]\n"
          ]
        },
        {
          "name": "stdout",
          "output_type": "stream",
          "text": [
            "\n",
            "MSE before optimization: 8.20903491973877\n",
            "MSE after optimization:  4.843896389007568\n",
            "cashed quant Inputfeatures.16.conv.1.0\n",
            "\n",
            "Optimize 46:features.16.conv.1.0 for 8 bit of shape torch.Size([960, 1, 3, 3])\n"
          ]
        },
        {
          "name": "stderr",
          "output_type": "stream",
          "text": [
            "100%|██████████| 100/100 [00:01<00:00, 68.50it/s]\n"
          ]
        },
        {
          "name": "stdout",
          "output_type": "stream",
          "text": [
            "\n",
            "MSE before optimization: 0.0033551654778420925\n",
            "MSE after optimization:  0.0016540881479158998\n",
            "cashed quant Inputfeatures.16.conv.2\n",
            "\n",
            "Optimize 47:features.16.conv.2 for 8 bit of shape torch.Size([160, 960, 1, 1])\n"
          ]
        },
        {
          "name": "stderr",
          "output_type": "stream",
          "text": [
            "100%|██████████| 100/100 [00:00<00:00, 126.74it/s]\n"
          ]
        },
        {
          "name": "stdout",
          "output_type": "stream",
          "text": [
            "\n",
            "MSE before optimization: 1.3423482179641724\n",
            "MSE after optimization:  0.5264734625816345\n",
            "cashed quant Inputfeatures.17.conv.0.0\n",
            "\n",
            "Optimize 48:features.17.conv.0.0 for 8 bit of shape torch.Size([960, 160, 1, 1])\n"
          ]
        },
        {
          "name": "stderr",
          "output_type": "stream",
          "text": [
            "100%|██████████| 100/100 [00:00<00:00, 131.32it/s]\n"
          ]
        },
        {
          "name": "stdout",
          "output_type": "stream",
          "text": [
            "\n",
            "MSE before optimization: 129.00953674316406\n",
            "MSE after optimization:  101.76636505126953\n",
            "cashed quant Inputfeatures.17.conv.1.0\n",
            "\n",
            "Optimize 49:features.17.conv.1.0 for 8 bit of shape torch.Size([960, 1, 3, 3])\n"
          ]
        },
        {
          "name": "stderr",
          "output_type": "stream",
          "text": [
            "100%|██████████| 100/100 [00:01<00:00, 66.20it/s]\n"
          ]
        },
        {
          "name": "stdout",
          "output_type": "stream",
          "text": [
            "\n",
            "MSE before optimization: 0.004908871371299028\n",
            "MSE after optimization:  0.0013554277829825878\n",
            "cashed quant Inputfeatures.17.conv.2\n",
            "\n",
            "Optimize 50:features.17.conv.2 for 8 bit of shape torch.Size([320, 960, 1, 1])\n"
          ]
        },
        {
          "name": "stderr",
          "output_type": "stream",
          "text": [
            "100%|██████████| 100/100 [00:01<00:00, 55.21it/s]\n"
          ]
        },
        {
          "name": "stdout",
          "output_type": "stream",
          "text": [
            "\n",
            "MSE before optimization: 1.0320674180984497\n",
            "MSE after optimization:  0.5273337960243225\n",
            "cashed quant Inputfeatures.18.0\n",
            "\n",
            "Optimize 51:features.18.0 for 8 bit of shape torch.Size([1280, 320, 1, 1])\n"
          ]
        },
        {
          "name": "stderr",
          "output_type": "stream",
          "text": [
            "100%|██████████| 100/100 [00:02<00:00, 48.39it/s]\n"
          ]
        },
        {
          "name": "stdout",
          "output_type": "stream",
          "text": [
            "\n",
            "MSE before optimization: 9.769645690917969\n",
            "MSE after optimization:  9.340081214904785\n",
            "cashed quant Inputclassifier.1\n",
            "\n",
            "Optimize 52:classifier.1 for 8 bit of shape torch.Size([10, 1280])\n"
          ]
        },
        {
          "name": "stderr",
          "output_type": "stream",
          "text": [
            "100%|██████████| 100/100 [00:00<00:00, 198.39it/s]\n"
          ]
        },
        {
          "name": "stdout",
          "output_type": "stream",
          "text": [
            "\n",
            "MSE before optimization: 3332.45947265625\n",
            "MSE after optimization:  3047.751953125\n"
          ]
        }
      ],
      "source": [
        "for i, layer in enumerate(cached_input_output):\n",
        "    if i > 0: \n",
        "        count = 0\n",
        "        cached_qinput = {}\n",
        "        for name, m in model.named_modules():\n",
        "            if layer.name == name:\n",
        "                if count < 5:\n",
        "                    handler = m.register_forward_hook(partial(Qhook, name))\n",
        "                    count += 1\n",
        "        trainer.validate(cal_dataloader)\n",
        "        print(\"cashed quant Input%s\" % layer.name)\n",
        "        cached_input_output[layer][0] = (\n",
        "            cached_qinput[layer][0],\n",
        "            cached_input_output[layer][0][1],\n",
        "        )\n",
        "        handler.remove()\n",
        "    print(\n",
        "        \"\\nOptimize {}:{} for {} bit of shape {}\".format(\n",
        "            i, layer.name, layer.num_bits, layer.weight.shape\n",
        "        )\n",
        "    )\n",
        "\n",
        "    mse_before, mse_after = optimize_layer_adaquant(layer, cached_input_output[layer])\n",
        "    acc=val_loop(val_dataloader, model, 'cpu')\n",
        "\n",
        "    print(\"\\nMSE before optimization: {}\".format(mse_before))\n",
        "    print(\"MSE after optimization:  {}\".format(mse_after))\n",
        "    mse_df.loc[i, \"name\"] = layer.name\n",
        "    mse_df.loc[i, \"bit\"] = layer.num_bits\n",
        "    mse_df.loc[i, \"shape\"] = str(layer.weight.shape)\n",
        "    mse_df.loc[i, \"mse_before\"] = mse_before\n",
        "    mse_df.loc[i, \"mse_after\"] = mse_after\n",
        "    mse_df.loc[i, \"acc\"] = acc\n",
        "\n",
        "\n",
        "#save the results and model\n",
        "mse_csv = evaluate + \".mse.csv\"\n",
        "mse_df.to_csv(mse_csv)\n",
        "\n",
        "filename = evaluate + \"_adaquant_val02\"\n",
        "torch.save(model.state_dict(), filename)"
      ]
    }
  ],
  "metadata": {
    "accelerator": "GPU",
    "colab": {
      "gpuType": "T4",
      "include_colab_link": true,
      "machine_shape": "hm",
      "provenance": []
    },
    "kernelspec": {
      "display_name": "Python 3",
      "name": "python3"
    },
    "language_info": {
      "codemirror_mode": {
        "name": "ipython",
        "version": 3
      },
      "file_extension": ".py",
      "mimetype": "text/x-python",
      "name": "python",
      "nbconvert_exporter": "python",
      "pygments_lexer": "ipython3",
      "version": "3.9.13"
    },
    "orig_nbformat": 4
  },
  "nbformat": 4,
  "nbformat_minor": 0
}
